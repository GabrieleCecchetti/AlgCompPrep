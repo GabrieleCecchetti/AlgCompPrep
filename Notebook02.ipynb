{
 "cells": [
  {
   "cell_type": "code",
   "execution_count": 60,
   "id": "pursuant-truth",
   "metadata": {},
   "outputs": [],
   "source": [
    "import numpy as np\n",
    "import pandas as pd\n",
    "%matplotlib inline\n",
    "import matplotlib.pyplot as plt\n",
    "import IPython.display as ipd\n",
    "from IPython.display import Audio\n",
    "import librosa\n",
    "from librosa import display\n",
    "import librosa.display\n",
    "from fractions import Fraction\n",
    "from iteration_utilities import deepflatten #flatten nested lists\n",
    "import string\n",
    "\n",
    "import pretty_midi\n",
    "\n",
    "import fluidsynth\n",
    "import soundfile as sf\n",
    "import music21\n",
    "from music21 import *\n",
    "import itertools\n",
    "import random\n",
    "import mchmm #for Markov models\n",
    "\n",
    "import pysndfx #sound processing\n",
    "\n",
    "import nltk #for NLP\n",
    "\n",
    "#Just a helper function\n",
    "def flatten_list(hierarchical_list):\n",
    "    #Flatten a list of lists\n",
    "    return [x for sublist in hierarchical_list for x in sublist]"
   ]
  },
  {
   "cell_type": "markdown",
   "id": "unsigned-updating",
   "metadata": {},
   "source": [
    "This notebook exemplifies a few modalities of rhythm generation. We start by simply assembling consecutive durations in an arbitrary way (1). Then, we fix the probabilities for transitioning from one duration to the next, building a Markov model (2). Rather than fixing the transition probabilities ourselves, we can train a Markov model to learn the transition probabilities from some corpus, and then using these transition probabilities to generate new rhythms (3). Finally, we implement a Context Free Grammar for generating rhythms hierarchically (4).\n",
    "\n",
    "Before engaging with the main topics, it will be useful to define some helper functions to save some time."
   ]
  },
  {
   "cell_type": "markdown",
   "id": "sweet-laser",
   "metadata": {},
   "source": [
    "# Helper functions"
   ]
  },
  {
   "cell_type": "markdown",
   "id": "regulation-swimming",
   "metadata": {},
   "source": [
    "First, here is a shortcut for playback, which we have already seen in last week's ntoebook:"
   ]
  },
  {
   "cell_type": "code",
   "execution_count": 3,
   "id": "invalid-bahamas",
   "metadata": {},
   "outputs": [],
   "source": [
    "def play(score):\n",
    "    #Shortcut to play a stream\n",
    "    midi.realtime.StreamPlayer(score).play()"
   ]
  },
  {
   "cell_type": "markdown",
   "id": "impossible-moisture",
   "metadata": {},
   "source": [
    "Now, we use the tools provided by music21 in order to create percussion sounds and embedding them in streams.\n",
    "First, let us create a note object of given duration. \n",
    "\n",
    "We express durations in whole-note units, so that quarter-notes have duration 1/4, eigth-notes have duration 1/8 etc. You can easily change the duration unit by assigning a new value to the UNIT variable.\n",
    "\n",
    "Since we are dealing with rhythm, we don't really care about the pitch of the notes, so we assign a default value (C4). When calling the percussion_hit function, you can either stick to the default pitch (just omit the pitch parameter) or you can specify a new value for the pitch parameter."
   ]
  },
  {
   "cell_type": "code",
   "execution_count": null,
   "id": "neither-graphic",
   "metadata": {},
   "outputs": [],
   "source": [
    "#GLOBAL CONSTANTS\n",
    "UNIT = 1 #We express duration as fractions of a whole note. Use UNIT = 1/4 to express durations as fractions of quarter-notes\n",
    "\n",
    "def percussion_hit(duration, pitch = \"C4\"):\n",
    "    #Create Note object for percussion hits (default pitch is C4)\n",
    "    return Note(pitch, quarterLength = duration*(4*UNIT))"
   ]
  },
  {
   "cell_type": "markdown",
   "id": "loving-strike",
   "metadata": {},
   "source": [
    "So, a percussion_hit of duration 1 (whole-note) spans 4 quarter-notes:"
   ]
  },
  {
   "cell_type": "code",
   "execution_count": 7,
   "id": "hawaiian-hamburg",
   "metadata": {},
   "outputs": [
    {
     "data": {
      "text/plain": [
       "4.0"
      ]
     },
     "execution_count": 7,
     "metadata": {},
     "output_type": "execute_result"
    }
   ],
   "source": [
    "percussion_hit(1).quarterLength"
   ]
  },
  {
   "cell_type": "code",
   "execution_count": 12,
   "id": "promotional-female",
   "metadata": {},
   "outputs": [
    {
     "data": {
      "image/png": "[encoded data removed]",
      "text/plain": [
       "<IPython.core.display.Image object>"
      ]
     },
     "metadata": {
      "image/png": {
       "height": 49,
       "width": 194
      }
     },
     "output_type": "display_data"
    }
   ],
   "source": [
    "percussion_hit(1).show()"
   ]
  },
  {
   "cell_type": "markdown",
   "id": "olympic-hours",
   "metadata": {},
   "source": [
    "Now, we create a container object (a Stream or a Measure) for our percussion_hits. By default, no time signature is specified, so that a single measure of unspecified capacity is generated. If you do specify a time signature when calling the create_percussion function, a stream with the given time signature is created instead."
   ]
  },
  {
   "cell_type": "code",
   "execution_count": 9,
   "id": "gentle-murder",
   "metadata": {},
   "outputs": [],
   "source": [
    "def create_percussion(time_sig = None):\n",
    "    #Initialize a percussion stream with Woodblock timbre\n",
    "    #If time signature is None, no measure splits\n",
    "    if time_sig == None:\n",
    "        drumPart = stream.Measure()\n",
    "    else:\n",
    "        drumPart = stream.Stream()\n",
    "        drumPart.timeSignature = meter.TimeSignature(time_sig)\n",
    "    \n",
    "    drumPart.insert(0, instrument.Woodblock()) #assign woosblock timbre\n",
    "    return drumPart"
   ]
  },
  {
   "cell_type": "markdown",
   "id": "north-tractor",
   "metadata": {},
   "source": [
    "We can now embed a percussion_hit in a stream. To simplify the process, we define new functions that append a percussion_hit of given duration to a percussion stream:"
   ]
  },
  {
   "cell_type": "code",
   "execution_count": 31,
   "id": "numeric-hindu",
   "metadata": {},
   "outputs": [],
   "source": [
    "def append_event(duration, original_stream, rest = False):\n",
    "    #Returns a new_stream obtained by appending a rhythmical event or a rest of given duration to the original_stream\n",
    "    new_stream = original_stream\n",
    "    if rest:\n",
    "        new_stream.append(note.Rest(quarterLength = duration*(4*UNIT)))\n",
    "    else:\n",
    "        new_stream.append(percussion_hit(duration))\n",
    "    return new_stream\n"
   ]
  },
  {
   "cell_type": "code",
   "execution_count": 32,
   "id": "improved-feelings",
   "metadata": {},
   "outputs": [
    {
     "data": {
      "image/png": "[encoded data removed]",
      "text/plain": [
       "<IPython.core.display.Image object>"
      ]
     },
     "metadata": {
      "image/png": {
       "height": 49,
       "width": 196
      }
     },
     "output_type": "display_data"
    }
   ],
   "source": [
    "m = create_percussion()\n",
    "append_event(1/8, m).show()"
   ]
  },
  {
   "cell_type": "markdown",
   "id": "ordinary-secretariat",
   "metadata": {},
   "source": [
    "# 1. Additive rhythm generation"
   ]
  },
  {
   "cell_type": "markdown",
   "id": "wireless-illness",
   "metadata": {},
   "source": [
    "Now, we are ready to produce rhythms! \n",
    "\n",
    "By running the following cell with start_new set to True, you initialise an empty rhythmic stream and fill it with one note of duration new_duration. If you set start_new to False, you can keep adding new notes to the stream. Every time you append a new note, you can decide its duration by assigining a value to the variable new_duration. You can also insert rests, by changing the truth value of the is_rest variable."
   ]
  },
  {
   "cell_type": "code",
   "execution_count": 38,
   "id": "deluxe-battle",
   "metadata": {},
   "outputs": [
    {
     "data": {
      "image/png": "[encoded data removed]",
      "text/plain": [
       "<Figure size 720x432 with 1 Axes>"
      ]
     },
     "metadata": {
      "image/png": {
       "height": 382,
       "width": 584
      }
     },
     "output_type": "display_data"
    }
   ],
   "source": [
    "start_new = True\n",
    "\n",
    "#What duration do you want to add to the rhythm?\n",
    "new_duration = 3/8\n",
    "is_rest = False\n",
    "\n",
    "if start_new:\n",
    "    #If start_new is true, initialise a new rhythmic stream\n",
    "    initial = create_percussion()\n",
    "\n",
    "updated = initial\n",
    "updated = append_event(new_duration, updated, rest = is_rest)\n",
    "\n",
    "    \n",
    "updated.plot()\n",
    "play(updated)"
   ]
  },
  {
   "cell_type": "markdown",
   "id": "configured-hands",
   "metadata": {},
   "source": [
    "### Rhythm from list of durations"
   ]
  },
  {
   "cell_type": "markdown",
   "id": "systematic-interface",
   "metadata": {},
   "source": [
    "Instead of adding one percussion_hit at a time, we can specify a whole sequence of durations at once: "
   ]
  },
  {
   "cell_type": "code",
   "execution_count": 45,
   "id": "residential-resort",
   "metadata": {},
   "outputs": [],
   "source": [
    "def rhythm_from_sequence(durations, time_sig = None):\n",
    "    #Generate rhythmic stream from a list of durations. Rests are indicated by specifying a duration as a string\n",
    "    rhythm = create_percussion(time_sig = time_sig)\n",
    "    for dur in durations:\n",
    "        is_rest = False\n",
    "        if type(dur) == str:\n",
    "            #if duration is given as a string, interpret and rest and turn string into a numerical value\n",
    "            is_rest = True\n",
    "            dur = Fraction(dur)\n",
    "            \n",
    "        rhythm = append_event(dur, rhythm, rest = is_rest) \n",
    "    return rhythm\n"
   ]
  },
  {
   "cell_type": "markdown",
   "id": "tired-silence",
   "metadata": {},
   "source": [
    "Let's play and show a sequence of arbitrary durations:"
   ]
  },
  {
   "cell_type": "code",
   "execution_count": 50,
   "id": "answering-liabilities",
   "metadata": {},
   "outputs": [],
   "source": [
    "duration_sequence = [1/4, 1/8, 1/8, 1/4/3, 2/4/3,  '1/8' ,  1/4]    \n",
    "rhythm = rhythm_from_sequence(duration_sequence)\n",
    "play(rhythm)    "
   ]
  },
  {
   "cell_type": "code",
   "execution_count": 51,
   "id": "communist-recommendation",
   "metadata": {},
   "outputs": [
    {
     "data": {
      "image/png": "[encoded data removed]",
      "text/plain": [
       "<IPython.core.display.Image object>"
      ]
     },
     "metadata": {
      "image/png": {
       "height": 53,
       "width": 674
      }
     },
     "output_type": "display_data"
    }
   ],
   "source": [
    "rhythm.show()"
   ]
  },
  {
   "cell_type": "code",
   "execution_count": 52,
   "id": "communist-australia",
   "metadata": {},
   "outputs": [
    {
     "data": {
      "image/png": "[encoded data removed]",
      "text/plain": [
       "<Figure size 720x432 with 1 Axes>"
      ]
     },
     "metadata": {
      "image/png": {
       "height": 382,
       "width": 584
      }
     },
     "output_type": "display_data"
    }
   ],
   "source": [
    "rhythm.plot()"
   ]
  },
  {
   "cell_type": "markdown",
   "id": "editorial-finding",
   "metadata": {},
   "source": [
    "# 2. Markovian generation"
   ]
  },
  {
   "cell_type": "markdown",
   "id": "answering-blade",
   "metadata": {},
   "source": [
    "Music is about *organising* sounds in time. As a consequence, we want our rhythms to be governed by some generative principle. A possible generative principle is to specify the probability for any new duration in a sequence given the preceding duration(s). Here is an example of a markovian rhythm."
   ]
  },
  {
   "cell_type": "markdown",
   "id": "continent-finder",
   "metadata": {},
   "source": [
    "First, we decide what our \"alphabet\" of durations is going to be. In this case, just as an example, we start with two elementary durations: the sixteenth-note (duration 1/16, or one quarter of a quarter-note) and the triplet of eigth-notes (duration 1/12, or one third of a quarter-note). "
   ]
  },
  {
   "cell_type": "code",
   "execution_count": null,
   "id": "international-latvia",
   "metadata": {},
   "outputs": [],
   "source": [
    "ELEMENTARY_DURATIONS = [1/4/4 , 1/4/3] #Our set of elementary durations comprises a binary (a sixtheenth-note) and a ternary (triplet) duration"
   ]
  },
  {
   "cell_type": "markdown",
   "id": "cultural-focus",
   "metadata": {},
   "source": [
    "We generate other durations by combining up to MAX_COMPONENTS elementary durations:"
   ]
  },
  {
   "cell_type": "code",
   "execution_count": 58,
   "id": "unique-brighton",
   "metadata": {},
   "outputs": [],
   "source": [
    "MAX_COMPONENTS = 4\n",
    "\n",
    "def generate_duration(elementary_durations = ELEMENTARY_DURATIONS, max_comp = MAX_COMPONENTS):\n",
    "    #Randomly generate a legal duration by assembling up to max_comp components drawn from the elementary durations\n",
    "    \n",
    "    dur = random.choice(elementary_durations) #initialize by picking an elemenary duration at random\n",
    "    \n",
    "    for i in range(max_comp-1): #iterate max_comp times\n",
    "        if random.random() > 0.5: #randomly determine whether to add a component or not\n",
    "            dur += random.choice(elementary_durations) #randomly select a binary or ternary component\n",
    "            \n",
    "    return dur"
   ]
  },
  {
   "cell_type": "markdown",
   "id": "august-female",
   "metadata": {},
   "source": [
    "As a consequence, the alphabet of all possible durations is:"
   ]
  },
  {
   "cell_type": "code",
   "execution_count": 61,
   "id": "helpful-frederick",
   "metadata": {},
   "outputs": [
    {
     "data": {
      "text/plain": [
       "[0.0625,\n",
       " 0.08333333333333333,\n",
       " 0.125,\n",
       " 0.14583333333333331,\n",
       " 0.16666666666666666,\n",
       " 0.1875,\n",
       " 0.20833333333333331,\n",
       " 0.22916666666666663,\n",
       " 0.25,\n",
       " 0.25,\n",
       " 0.2708333333333333,\n",
       " 0.29166666666666663,\n",
       " 0.31249999999999994,\n",
       " 0.3333333333333333]"
      ]
     },
     "execution_count": 61,
     "metadata": {},
     "output_type": "execute_result"
    }
   ],
   "source": [
    "def all_durations(elementary_durations = ELEMENTARY_DURATIONS, max_comp = MAX_COMPONENTS):\n",
    "    #Compute all possible legal durations\n",
    "    \n",
    "    compute_durations = [list(itertools.combinations_with_replacement(elementary_durations, i)) for i in range(1,max_comp+1)]\n",
    "    flatten_durations = flatten_list(compute_durations)\n",
    "    return list(map(sum, flatten_durations))\n",
    "\n",
    "all_durations()"
   ]
  },
  {
   "cell_type": "markdown",
   "id": "helpful-breakdown",
   "metadata": {},
   "source": [
    "For each possible duration x, we need to specify the probability the duration x may follow duration y in a rhythmic sequence. As an example, we adopt here the following simple criterion. We divide our alphabet of durations in two classes: the durations that only comprise binary elementary components and the durations that also comprise ternary elementary components. We then decide that a duration is 4 times more likely to be followed by a duration from the same class than by a duration from the other class."
   ]
  },
  {
   "cell_type": "code",
   "execution_count": 63,
   "id": "fallen-insurance",
   "metadata": {},
   "outputs": [],
   "source": [
    "def transition_probs(last_dur, new_dur):\n",
    "    #Transition probability of new_dur given the previous duration last_dur\n",
    "    #Here, we have two categories of rhythmic values (pure binary vs. ternary/hybrid). \n",
    "    #We make it 4 times more likely for new_dur to fall in the same category than to switch\n",
    "    if int(last_dur*4) == last_dur*4:\n",
    "        if int(new_dur*4) == new_dur*4:\n",
    "            return 0.8\n",
    "        else:\n",
    "            return 0.2\n",
    "    else:\n",
    "        if int(new_dur*4) == new_dur*4:\n",
    "            return 0.2\n",
    "        else:\n",
    "            return 0.8"
   ]
  },
  {
   "cell_type": "markdown",
   "id": "amateur-kernel",
   "metadata": {},
   "source": [
    "All that is left to do is to generate stochastically a rhythmic sequence by drawing each new duration from our alphabet of durations based on a probability distribution that depends on the immediately preceding duration. "
   ]
  },
  {
   "cell_type": "code",
   "execution_count": 68,
   "id": "aquatic-eleven",
   "metadata": {},
   "outputs": [],
   "source": [
    "def new_duration(last_dur, elementary_durations = ELEMENTARY_DURATIONS, max_components = MAX_COMPONENTS):\n",
    "    #Generate new duration given previous duration last_dur\n",
    "    all_dur = all_durations(elementary_durations, max_components)\n",
    "    \n",
    "    return random.choices(all_dur, [transition_probs(last_dur, x) for x in all_dur])[0] #draw from all_dur according to a probability distribution given by transition_probs\n",
    "    \n",
    "    \n",
    "def generate_rhythm(l, current = None):\n",
    "    #Generate recursively a sequence of durations comprising l events\n",
    "    if current == None:\n",
    "        #initialise with a random legal duration\n",
    "        dur_sequence = [generate_duration()]\n",
    "    else:\n",
    "        dur_sequence = current\n",
    "        \n",
    "    if l>1:\n",
    "        #Call the function generate_rhythm recursively to generate all durations from position 2 to position l in the sequence\n",
    "        new = new_duration(dur_sequence[-1])\n",
    "        dur_sequence += [new]\n",
    "        return generate_rhythm(l-1, current = dur_sequence)\n",
    "    else:\n",
    "        return dur_sequence"
   ]
  },
  {
   "cell_type": "code",
   "execution_count": 70,
   "id": "approved-manhattan",
   "metadata": {},
   "outputs": [],
   "source": [
    "play(rhythm_from_sequence(generate_rhythm(20)))"
   ]
  },
  {
   "cell_type": "markdown",
   "id": "brave-prisoner",
   "metadata": {},
   "source": [
    "# 3. Train Markov chain"
   ]
  },
  {
   "cell_type": "markdown",
   "id": "psychological-links",
   "metadata": {},
   "source": [
    "Now, instead of specifying the transition probabilities arbitrarily, we can infer them from some other stochastic process: for example, word lengths in a literary text. \n",
    "\n",
    "`NLTK`, a python library for natural language processing, provides us with the tools to do it. First, let's take the text of Carrol's Alice in Wonderland from `nltk`'s corpus, extract the words as a list, and filter out the punctuation. Finally, we map each word into its length. We obtain a list of numbers."
   ]
  },
  {
   "cell_type": "code",
   "execution_count": 72,
   "id": "advisory-omega",
   "metadata": {},
   "outputs": [],
   "source": [
    "alice_in_wonderland = nltk.corpus.gutenberg.words('carroll-alice.txt') #import word list from Alice in Wonderland\n",
    "ALICE = list(filter(lambda word: np.product([character not in string.punctuation for character in word ]), alice_in_wonderland)) # filter out punctuation\n",
    "ALICE_length = list(map(len, ALICE)) # map each word into its length"
   ]
  },
  {
   "cell_type": "markdown",
   "id": "unlike-seattle",
   "metadata": {},
   "source": [
    "With the `mchmm` package we can now train a markov chain on the list of word lengths: e.g., how likely is it for a word of length 3 to follow a ford of length 1?"
   ]
  },
  {
   "cell_type": "code",
   "execution_count": 73,
   "id": "neither-architect",
   "metadata": {},
   "outputs": [],
   "source": [
    "#Train Markov model on the sequence of word lengths\n",
    "ALICE_markov = mchmm.MarkovChain().from_data(ALICE_length)"
   ]
  },
  {
   "cell_type": "markdown",
   "id": "unable-locator",
   "metadata": {},
   "source": [
    "We can show the matrix of obserbed transition counts from a word of length x to a word of length y as a `pandas` DataFrame:"
   ]
  },
  {
   "cell_type": "code",
   "execution_count": 74,
   "id": "black-excuse",
   "metadata": {},
   "outputs": [
    {
     "data": {
      "text/html": [
       "<div>\n",
       "<style scoped>\n",
       "    .dataframe tbody tr th:only-of-type {\n",
       "        vertical-align: middle;\n",
       "    }\n",
       "\n",
       "    .dataframe tbody tr th {\n",
       "        vertical-align: top;\n",
       "    }\n",
       "\n",
       "    .dataframe thead th {\n",
       "        text-align: right;\n",
       "    }\n",
       "</style>\n",
       "<table border=\"1\" class=\"dataframe\">\n",
       "  <thead>\n",
       "    <tr style=\"text-align: right;\">\n",
       "      <th></th>\n",
       "      <th>1</th>\n",
       "      <th>2</th>\n",
       "      <th>3</th>\n",
       "      <th>4</th>\n",
       "      <th>5</th>\n",
       "      <th>6</th>\n",
       "      <th>7</th>\n",
       "      <th>8</th>\n",
       "      <th>9</th>\n",
       "      <th>10</th>\n",
       "      <th>11</th>\n",
       "      <th>12</th>\n",
       "      <th>13</th>\n",
       "      <th>14</th>\n",
       "    </tr>\n",
       "  </thead>\n",
       "  <tbody>\n",
       "    <tr>\n",
       "      <th>1</th>\n",
       "      <td>105</td>\n",
       "      <td>148</td>\n",
       "      <td>274</td>\n",
       "      <td>448</td>\n",
       "      <td>273</td>\n",
       "      <td>238</td>\n",
       "      <td>122</td>\n",
       "      <td>39</td>\n",
       "      <td>30</td>\n",
       "      <td>16</td>\n",
       "      <td>4</td>\n",
       "      <td>5</td>\n",
       "      <td>0</td>\n",
       "      <td>0</td>\n",
       "    </tr>\n",
       "    <tr>\n",
       "      <th>2</th>\n",
       "      <td>331</td>\n",
       "      <td>560</td>\n",
       "      <td>1396</td>\n",
       "      <td>935</td>\n",
       "      <td>484</td>\n",
       "      <td>265</td>\n",
       "      <td>235</td>\n",
       "      <td>87</td>\n",
       "      <td>72</td>\n",
       "      <td>29</td>\n",
       "      <td>9</td>\n",
       "      <td>7</td>\n",
       "      <td>3</td>\n",
       "      <td>0</td>\n",
       "    </tr>\n",
       "    <tr>\n",
       "      <th>3</th>\n",
       "      <td>392</td>\n",
       "      <td>766</td>\n",
       "      <td>1469</td>\n",
       "      <td>1759</td>\n",
       "      <td>1095</td>\n",
       "      <td>616</td>\n",
       "      <td>465</td>\n",
       "      <td>264</td>\n",
       "      <td>126</td>\n",
       "      <td>47</td>\n",
       "      <td>51</td>\n",
       "      <td>9</td>\n",
       "      <td>3</td>\n",
       "      <td>2</td>\n",
       "    </tr>\n",
       "    <tr>\n",
       "      <th>4</th>\n",
       "      <td>426</td>\n",
       "      <td>1113</td>\n",
       "      <td>1639</td>\n",
       "      <td>1072</td>\n",
       "      <td>591</td>\n",
       "      <td>356</td>\n",
       "      <td>303</td>\n",
       "      <td>135</td>\n",
       "      <td>80</td>\n",
       "      <td>39</td>\n",
       "      <td>19</td>\n",
       "      <td>4</td>\n",
       "      <td>4</td>\n",
       "      <td>1</td>\n",
       "    </tr>\n",
       "    <tr>\n",
       "      <th>5</th>\n",
       "      <td>219</td>\n",
       "      <td>649</td>\n",
       "      <td>949</td>\n",
       "      <td>611</td>\n",
       "      <td>327</td>\n",
       "      <td>230</td>\n",
       "      <td>194</td>\n",
       "      <td>85</td>\n",
       "      <td>45</td>\n",
       "      <td>21</td>\n",
       "      <td>7</td>\n",
       "      <td>2</td>\n",
       "      <td>0</td>\n",
       "      <td>1</td>\n",
       "    </tr>\n",
       "    <tr>\n",
       "      <th>6</th>\n",
       "      <td>101</td>\n",
       "      <td>442</td>\n",
       "      <td>525</td>\n",
       "      <td>373</td>\n",
       "      <td>216</td>\n",
       "      <td>97</td>\n",
       "      <td>96</td>\n",
       "      <td>45</td>\n",
       "      <td>41</td>\n",
       "      <td>10</td>\n",
       "      <td>4</td>\n",
       "      <td>1</td>\n",
       "      <td>1</td>\n",
       "      <td>0</td>\n",
       "    </tr>\n",
       "    <tr>\n",
       "      <th>7</th>\n",
       "      <td>79</td>\n",
       "      <td>397</td>\n",
       "      <td>415</td>\n",
       "      <td>282</td>\n",
       "      <td>160</td>\n",
       "      <td>74</td>\n",
       "      <td>75</td>\n",
       "      <td>41</td>\n",
       "      <td>31</td>\n",
       "      <td>9</td>\n",
       "      <td>4</td>\n",
       "      <td>4</td>\n",
       "      <td>0</td>\n",
       "      <td>0</td>\n",
       "    </tr>\n",
       "    <tr>\n",
       "      <th>8</th>\n",
       "      <td>20</td>\n",
       "      <td>166</td>\n",
       "      <td>208</td>\n",
       "      <td>140</td>\n",
       "      <td>85</td>\n",
       "      <td>32</td>\n",
       "      <td>42</td>\n",
       "      <td>13</td>\n",
       "      <td>7</td>\n",
       "      <td>5</td>\n",
       "      <td>4</td>\n",
       "      <td>1</td>\n",
       "      <td>0</td>\n",
       "      <td>0</td>\n",
       "    </tr>\n",
       "    <tr>\n",
       "      <th>9</th>\n",
       "      <td>11</td>\n",
       "      <td>99</td>\n",
       "      <td>106</td>\n",
       "      <td>97</td>\n",
       "      <td>63</td>\n",
       "      <td>26</td>\n",
       "      <td>21</td>\n",
       "      <td>9</td>\n",
       "      <td>9</td>\n",
       "      <td>3</td>\n",
       "      <td>3</td>\n",
       "      <td>0</td>\n",
       "      <td>0</td>\n",
       "      <td>0</td>\n",
       "    </tr>\n",
       "    <tr>\n",
       "      <th>10</th>\n",
       "      <td>8</td>\n",
       "      <td>46</td>\n",
       "      <td>38</td>\n",
       "      <td>43</td>\n",
       "      <td>20</td>\n",
       "      <td>9</td>\n",
       "      <td>10</td>\n",
       "      <td>3</td>\n",
       "      <td>3</td>\n",
       "      <td>0</td>\n",
       "      <td>1</td>\n",
       "      <td>0</td>\n",
       "      <td>0</td>\n",
       "      <td>0</td>\n",
       "    </tr>\n",
       "    <tr>\n",
       "      <th>11</th>\n",
       "      <td>6</td>\n",
       "      <td>19</td>\n",
       "      <td>29</td>\n",
       "      <td>17</td>\n",
       "      <td>12</td>\n",
       "      <td>8</td>\n",
       "      <td>7</td>\n",
       "      <td>1</td>\n",
       "      <td>3</td>\n",
       "      <td>2</td>\n",
       "      <td>2</td>\n",
       "      <td>1</td>\n",
       "      <td>0</td>\n",
       "      <td>1</td>\n",
       "    </tr>\n",
       "    <tr>\n",
       "      <th>12</th>\n",
       "      <td>3</td>\n",
       "      <td>6</td>\n",
       "      <td>10</td>\n",
       "      <td>4</td>\n",
       "      <td>9</td>\n",
       "      <td>0</td>\n",
       "      <td>1</td>\n",
       "      <td>1</td>\n",
       "      <td>0</td>\n",
       "      <td>0</td>\n",
       "      <td>0</td>\n",
       "      <td>0</td>\n",
       "      <td>0</td>\n",
       "      <td>0</td>\n",
       "    </tr>\n",
       "    <tr>\n",
       "      <th>13</th>\n",
       "      <td>0</td>\n",
       "      <td>1</td>\n",
       "      <td>5</td>\n",
       "      <td>1</td>\n",
       "      <td>3</td>\n",
       "      <td>1</td>\n",
       "      <td>0</td>\n",
       "      <td>0</td>\n",
       "      <td>0</td>\n",
       "      <td>0</td>\n",
       "      <td>0</td>\n",
       "      <td>0</td>\n",
       "      <td>0</td>\n",
       "      <td>0</td>\n",
       "    </tr>\n",
       "    <tr>\n",
       "      <th>14</th>\n",
       "      <td>1</td>\n",
       "      <td>1</td>\n",
       "      <td>1</td>\n",
       "      <td>1</td>\n",
       "      <td>1</td>\n",
       "      <td>0</td>\n",
       "      <td>0</td>\n",
       "      <td>0</td>\n",
       "      <td>0</td>\n",
       "      <td>0</td>\n",
       "      <td>0</td>\n",
       "      <td>0</td>\n",
       "      <td>0</td>\n",
       "      <td>0</td>\n",
       "    </tr>\n",
       "  </tbody>\n",
       "</table>\n",
       "</div>"
      ],
      "text/plain": [
       "     1     2     3     4     5    6    7    8    9   10  11  12  13  14\n",
       "1   105   148   274   448   273  238  122   39   30  16   4   5   0   0\n",
       "2   331   560  1396   935   484  265  235   87   72  29   9   7   3   0\n",
       "3   392   766  1469  1759  1095  616  465  264  126  47  51   9   3   2\n",
       "4   426  1113  1639  1072   591  356  303  135   80  39  19   4   4   1\n",
       "5   219   649   949   611   327  230  194   85   45  21   7   2   0   1\n",
       "6   101   442   525   373   216   97   96   45   41  10   4   1   1   0\n",
       "7    79   397   415   282   160   74   75   41   31   9   4   4   0   0\n",
       "8    20   166   208   140    85   32   42   13    7   5   4   1   0   0\n",
       "9    11    99   106    97    63   26   21    9    9   3   3   0   0   0\n",
       "10    8    46    38    43    20    9   10    3    3   0   1   0   0   0\n",
       "11    6    19    29    17    12    8    7    1    3   2   2   1   0   1\n",
       "12    3     6    10     4     9    0    1    1    0   0   0   0   0   0\n",
       "13    0     1     5     1     3    1    0    0    0   0   0   0   0   0\n",
       "14    1     1     1     1     1    0    0    0    0   0   0   0   0   0"
      ]
     },
     "execution_count": 74,
     "metadata": {},
     "output_type": "execute_result"
    }
   ],
   "source": [
    "#Showing the transition (frequency) matrix\n",
    "pd.DataFrame(ALICE_markov.observed_matrix, index = ALICE_markov.states, columns = ALICE_markov.states, dtype = int)"
   ]
  },
  {
   "cell_type": "markdown",
   "id": "transparent-marshall",
   "metadata": {},
   "source": [
    "Now, we can generate a new sequence of integers (word lengths) with the markov model trained on Carrol's text. The `simulate` method of a `mchmm.MarkovChain()` object returns a list of *states* (i.e., actual word lengths) and the list of their *ID*s (i.e., the ordinal position of each state among the possible wordlengths that have been found in Carrol's text). "
   ]
  },
  {
   "cell_type": "code",
   "execution_count": 78,
   "id": "exact-madagascar",
   "metadata": {},
   "outputs": [],
   "source": [
    "#Simulate sequence of durations from ALICE_markov\n",
    "LENGTH_OF_SEQUENCE = 12 #number of events to generate\n",
    "\n",
    "#Markovian generation, starting with word length 3 (arbitrary).\n",
    "ids, states = ALICE_markov.simulate(LENGTH_OF_SEQUENCE, start=3, seed=np.random.randint(0, LENGTH_OF_SEQUENCE, LENGTH_OF_SEQUENCE))"
   ]
  },
  {
   "cell_type": "markdown",
   "id": "numeric-lover",
   "metadata": {},
   "source": [
    "We can now play the resulting sequence. First, we need to decide a scaling factor to turn integers into durations (here, we opt to equate a letter to a sixteenth-note)."
   ]
  },
  {
   "cell_type": "code",
   "execution_count": 77,
   "id": "alternative-activation",
   "metadata": {},
   "outputs": [],
   "source": [
    "play(rhythm_from_sequence(states*1/16)) #With scaling factor 1/16"
   ]
  },
  {
   "cell_type": "markdown",
   "id": "upset-virtue",
   "metadata": {},
   "source": [
    "# Hierarchical generation of rhythm"
   ]
  },
  {
   "cell_type": "markdown",
   "id": "chief-armstrong",
   "metadata": {},
   "source": [
    "## Rhythmic objects"
   ]
  },
  {
   "cell_type": "code",
   "execution_count": 48,
   "id": "banner-character",
   "metadata": {},
   "outputs": [],
   "source": [
    "class rhythmic_category:\n",
    "    def __init__(self, upbeat, body, tail):\n",
    "        \n",
    "        #Parameters\n",
    "        self.upbeat = upbeat\n",
    "        self.body = body\n",
    "        self.tail = tail\n",
    "        self.parameters = [upbeat, body, tail]\n",
    "        \n",
    "    #Rule applications\n",
    "    def split(self, ratio = 1/2, right_child_upbeat = 0):\n",
    "        #SPLIT operation on parent metrical category, based on ratio = left_child_body/parent.body. \n",
    "        #An upbeat for the right child can be specified.\n",
    "        left_child_body = self.body*ratio\n",
    "        right_child_body = self.body-left_child_body\n",
    "    \n",
    "        left_child_cat = rhythmic_category(self.upbeat, left_child_body, - right_child_upbeat)\n",
    "        right_child_cat = rhythmic_category(right_child_upbeat, right_child_body, self.tail)\n",
    "    \n",
    "        return list(deepflatten([left_child_cat.timesteal(), right_child_cat.timesteal()]))\n",
    "    \n",
    "    def prepare(self):\n",
    "        #UPBEAT rule (simplified, no upbeat of upbeat)\n",
    "        if self.upbeat > 0:\n",
    "            left_child_cat = rhythmic_category(0, self.upbeat, 0)\n",
    "            right_child_cat = rhythmic_category(0, self.body, self.tail)\n",
    "    \n",
    "            return list(deepflatten([left_child_cat.timesteal(),  right_child_cat.timesteal()]))\n",
    "        else:\n",
    "            return [self]\n",
    "        \n",
    "    def e_shift(self):\n",
    "        #ANTICIPATE rule\n",
    "        return [rhythmic_category(0, self.body, self.upbeat+self.tail)]\n",
    "    \n",
    "    def l_shift(self):\n",
    "        #DELAY rule\n",
    "        return [rhythmic_category(self.upbeat + self.tail, self.body, 0)]\n",
    "    \n",
    "    def timesteal(self):\n",
    "        #TIMESTEALING. We apply it automatically to reduce timestolen rhythmic values as soon as they are generated\n",
    "        new_upbeat = self.upbeat\n",
    "        new_tail = self.tail\n",
    "        timestolen_body = self.body\n",
    "        if self.upbeat < 0:\n",
    "            new_upbeat = 0\n",
    "            timestolen_body += self.upbeat\n",
    "        if self.tail < 0:\n",
    "            new_tail = 0\n",
    "            timestolen_body += self.tail\n",
    "        return [rhythmic_category(new_upbeat, timestolen_body, new_tail)]\n",
    "    \n",
    "    def attach_tail(self):\n",
    "        #Attach tail to body, to be used if tail > 0\n",
    "        return [rhythmic_category(self.upbeat, self.body+self.tail, 0)]\n",
    "\n",
    "    \n",
    "    def get_terminals(self):\n",
    "    #Recursively get terminal durations from metrical categories. Can accept \n",
    "    #If there is negative head or tail, interpret as timestealing. If there is positive head, interpret as preparation. If there is positive tail, interpret as a time-thief.\n",
    "    \n",
    "        if (self.upbeat == 0) and (self.tail == 0):\n",
    "            return [self.body]\n",
    "        elif (self.upbeat < 0) | (self.tail < 0):\n",
    "            return  list(deepflatten([x.get_terminals() for x in self.timesteal()]))\n",
    "        elif self.tail > 0:\n",
    "            return  list(deepflatten([x.get_terminals() for x in self.attach_tail()]))\n",
    "        elif self.upbeat > 0:\n",
    "            return list(deepflatten([x.get_terminals() for x in self.prepare()]))\n",
    "    \n",
    "        \n",
    "        "
   ]
  },
  {
   "cell_type": "markdown",
   "id": "supposed-forge",
   "metadata": {},
   "source": [
    "# Generation"
   ]
  },
  {
   "cell_type": "code",
   "execution_count": 52,
   "id": "every-watts",
   "metadata": {},
   "outputs": [],
   "source": [
    "def rule(rule_type, p1 = None, p2 = None):\n",
    "    #Returns dictionary specifying a rule with its parameters\n",
    "    \n",
    "    rule_def = {'type': rule_type}\n",
    "    \n",
    "    if p1 != None:\n",
    "        rule_def['p1'] = p1\n",
    "    if p2 != None:\n",
    "        rule_def['p2'] = p2\n",
    "    \n",
    "    return rule_def\n",
    "    \n",
    "\n",
    "def generate_hierarchical_rhythm(tree, starting_symbol, preterminal_string = []):\n",
    "    #Recursively generate rhythm from a hierarchy of rule applications\n",
    "    \n",
    "    if len(tree) == 0:\n",
    "        return preterminal_string + [starting_symbol]\n",
    "    else:\n",
    "        rule = tree[0]\n",
    "        if rule['type'] == 'split':\n",
    "            children = starting_symbol.split(ratio = rule['p1'], right_child_upbeat = rule['p2'])\n",
    "        elif rule['type'] == 'prepare':\n",
    "            children = starting_symbol.prepare()\n",
    "        elif rule['type'] == 'anticipate':\n",
    "            children = starting_symbol.e_shift()\n",
    "        elif rule['type'] == 'delay':\n",
    "            children = starting_symbol.l_shift()\n",
    "            \n",
    "               \n",
    "        for child_n in range(len(children)):\n",
    "            preterminal_string = generate_hierarchical_rhythm(tree[child_n+1], children[child_n], preterminal_string = preterminal_string)\n",
    "                \n",
    "    \n",
    "        return preterminal_string\n",
    "    \n",
    "\n",
    "def get_terminal_durations(rhythmic_categories):\n",
    "    #Turns list of pre-terminal categories in list of terminal durations\n",
    "    return list(deepflatten([x.get_terminals() for x in rhythmic_categories]))\n",
    "    "
   ]
  },
  {
   "cell_type": "code",
   "execution_count": 53,
   "id": "aquatic-implementation",
   "metadata": {},
   "outputs": [],
   "source": [
    "#Define start symbol\n",
    "S = rhythmic_category(0, 2, 0)\n",
    "\n",
    "#Define derivation: each node is in the form [rule('ruletype', parameter1, parameter2), [child_node1], [child_node2]]\n",
    "k = [rule('split', 1/2, 0), [rule('split', 1/2, 0), [rule('split', 1/2, 1/16), [], []], []], [rule('split', 1/2, 1/8), [], [rule('anticipate'), []]]]\n",
    "\n",
    "generated_rhythm = rhythm_from_sequence(get_terminal_durations(generate_hierarchical_rhythm(k, S, preterminal_string = [])), time_sig = '4/4')"
   ]
  },
  {
   "cell_type": "code",
   "execution_count": 56,
   "id": "seeing-calendar",
   "metadata": {},
   "outputs": [
    {
     "data": {
      "image/png": "[encoded data removed]",
      "text/plain": [
       "<IPython.core.display.Image object>"
      ]
     },
     "metadata": {
      "image/png": {
       "height": 57,
       "width": 674
      }
     },
     "output_type": "display_data"
    }
   ],
   "source": [
    "generated_rhythm.show()"
   ]
  },
  {
   "cell_type": "code",
   "execution_count": 57,
   "id": "chinese-sussex",
   "metadata": {},
   "outputs": [],
   "source": [
    "play(generated_rhythm)"
   ]
  }
 ],
 "metadata": {
  "kernelspec": {
   "display_name": "Python [conda env:algo] *",
   "language": "python",
   "name": "conda-env-algo-py"
  },
  "language_info": {
   "codemirror_mode": {
    "name": "ipython",
    "version": 3
   },
   "file_extension": ".py",
   "mimetype": "text/x-python",
   "name": "python",
   "nbconvert_exporter": "python",
   "pygments_lexer": "ipython3",
   "version": "3.8.5"
  }
 },
 "nbformat": 4,
 "nbformat_minor": 5
}
