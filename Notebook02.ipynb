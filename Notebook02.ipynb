{
 "cells": [
  {
   "cell_type": "code",
   "execution_count": 95,
   "id": "pursuant-truth",
   "metadata": {},
   "outputs": [],
   "source": [
    "import numpy as np\n",
    "import pandas as pd\n",
    "%matplotlib inline\n",
    "import matplotlib.pyplot as plt\n",
    "import IPython.display as ipd\n",
    "from IPython.display import Audio\n",
    "import librosa\n",
    "from librosa import display\n",
    "import librosa.display\n",
    "from fractions import Fraction\n",
    "from iteration_utilities import deepflatten #flatten nested lists\n",
    "import string\n",
    "\n",
    "import pretty_midi\n",
    "\n",
    "import fluidsynth\n",
    "import soundfile as sf\n",
    "import music21\n",
    "from music21 import *\n",
    "import itertools\n",
    "import random\n",
    "import mchmm #for Markov models\n",
    "\n",
    "import pysndfx #sound processing\n",
    "\n",
    "import nltk #for NLP\n",
    "\n",
    "#Just a helper function\n",
    "def flatten_list(hierarchical_list):\n",
    "    #Flatten a list of lists\n",
    "    return [x for sublist in hierarchical_list for x in sublist]"
   ]
  },
  {
   "cell_type": "markdown",
   "id": "likely-shannon",
   "metadata": {},
   "source": [
    "This notebook exemplifies a few modalities of rhythm generation. We start by simply assembling consecutive durations in an arbitrary way (1). Then, we fix the probabilities for transitioning from one duration to the next, building a Markov model (2). Rather than fixing the transition probabilities ourselves, we can train a Markov model to learn the transition probabilities from some corpus, and then using these transition probabilities to generate new rhythms (3). We then implement a Context Free Grammar for generating rhythms hierarchically (4). Finally, we overview Nancarrow's canonic techniques and reproduce the rhythm of his Study 14 for player piano.\n",
    "\n",
    "Before engaging with the main topics, it will be useful to define some helper functions to save some time."
   ]
  },
  {
   "cell_type": "markdown",
   "id": "meaningful-slovak",
   "metadata": {},
   "source": [
    "# Helper functions"
   ]
  },
  {
   "cell_type": "markdown",
   "id": "continental-combining",
   "metadata": {},
   "source": [
    "First, here is a shortcut for playback, which we have already seen in week 1 notebook:"
   ]
  },
  {
   "cell_type": "code",
   "execution_count": 96,
   "id": "controlling-surface",
   "metadata": {},
   "outputs": [],
   "source": [
    "def play(score):\n",
    "    #Shortcut to play a stream\n",
    "    midi.realtime.StreamPlayer(score).play()"
   ]
  },
  {
   "cell_type": "markdown",
   "id": "certified-elevation",
   "metadata": {},
   "source": [
    "Now, we use the tools provided by music21 in order to create percussion sounds and embedding them in streams.\n",
    "First, let us create a note object of given duration. \n",
    "\n",
    "We express durations in whole-note units, so that quarter-notes have duration 1/4, eigth-notes have duration 1/8 etc. You can easily change the duration unit by assigning a new value to the UNIT variable.\n",
    "\n",
    "Since we are dealing with rhythm, we don't really care about the pitch of the notes, so we assign a default value (C4). When calling the percussion_hit function, you can either stick to the default pitch (just omit the pitch parameter) or you can specify a new value for the pitch parameter."
   ]
  },
  {
   "cell_type": "code",
   "execution_count": 801,
   "id": "placed-circuit",
   "metadata": {},
   "outputs": [],
   "source": [
    "#GLOBAL CONSTANTS\n",
    "UNIT = 1 #We express duration as fractions of a whole note. Use UNIT = 1/4 to express durations as fractions of quarter-notes\n",
    "\n",
    "def percussion_hit(duration, pitch = \"C4\"):\n",
    "    #Create Note object for percussion hits (default pitch is C4)\n",
    "    return note.Note(pitch, quarterLength = duration*(4*UNIT))"
   ]
  },
  {
   "cell_type": "markdown",
   "id": "entire-community",
   "metadata": {},
   "source": [
    "So, a percussion_hit of duration 1 (whole-note) spans 4 quarter-notes:"
   ]
  },
  {
   "cell_type": "code",
   "execution_count": 802,
   "id": "medium-residence",
   "metadata": {},
   "outputs": [
    {
     "data": {
      "text/plain": [
       "4.0"
      ]
     },
     "execution_count": 802,
     "metadata": {},
     "output_type": "execute_result"
    }
   ],
   "source": [
    "percussion_hit(1).quarterLength"
   ]
  },
  {
   "cell_type": "code",
   "execution_count": 803,
   "id": "understanding-netherlands",
   "metadata": {},
   "outputs": [
    {
     "data": {
      "image/png": "[encoded data removed]",
      "text/plain": [
       "<IPython.core.display.Image object>"
      ]
     },
     "metadata": {
      "image/png": {
       "height": 49,
       "width": 194
      }
     },
     "output_type": "display_data"
    }
   ],
   "source": [
    "percussion_hit(1).show()"
   ]
  },
  {
   "cell_type": "markdown",
   "id": "explicit-webster",
   "metadata": {},
   "source": [
    "Now, we create a container object (a Stream or a Measure) for our percussion_hits. By default, no time signature is specified, so that a single measure of unspecified capacity is generated. If you do specify a time signature when calling the create_percussion function, a stream with the given time signature is created instead."
   ]
  },
  {
   "cell_type": "code",
   "execution_count": 804,
   "id": "neural-sending",
   "metadata": {},
   "outputs": [],
   "source": [
    "def create_percussion(time_sig = None):\n",
    "    #Initialize a percussion stream with Woodblock timbre\n",
    "    #If time signature is None, no measure splits\n",
    "    if time_sig == None:\n",
    "        drumPart = stream.Measure()\n",
    "    else:\n",
    "        drumPart = stream.Stream()\n",
    "        drumPart.timeSignature = meter.TimeSignature(time_sig)\n",
    "    \n",
    "    drumPart.insert(0, instrument.Woodblock()) #assign woosblock timbre\n",
    "    return drumPart"
   ]
  },
  {
   "cell_type": "markdown",
   "id": "filled-glenn",
   "metadata": {},
   "source": [
    "We can now embed a percussion_hit in a stream. To simplify the process, we define new functions that append a percussion_hit of given duration to a percussion stream:"
   ]
  },
  {
   "cell_type": "code",
   "execution_count": 805,
   "id": "numeric-hindu",
   "metadata": {},
   "outputs": [],
   "source": [
    "def append_event(duration, original_stream, rest = False, pitch = 'C4'):\n",
    "    #Returns a new_stream obtained by appending a rhythmical event or a rest of given duration to the original_stream\n",
    "    new_stream = original_stream\n",
    "    if rest:\n",
    "        new_stream.append(note.Rest(quarterLength = duration*(4*UNIT)))\n",
    "    else:\n",
    "        new_stream.append(percussion_hit(duration, pitch))\n",
    "    return new_stream\n"
   ]
  },
  {
   "cell_type": "code",
   "execution_count": 806,
   "id": "superb-witness",
   "metadata": {},
   "outputs": [
    {
     "data": {
      "image/png": "[encoded data removed]",
      "text/plain": [
       "<IPython.core.display.Image object>"
      ]
     },
     "metadata": {
      "image/png": {
       "height": 49,
       "width": 196
      }
     },
     "output_type": "display_data"
    }
   ],
   "source": [
    "m = create_percussion()\n",
    "append_event(1/8, m).show()"
   ]
  },
  {
   "cell_type": "markdown",
   "id": "ordinary-secretariat",
   "metadata": {},
   "source": [
    "# 1. Additive rhythm generation"
   ]
  },
  {
   "cell_type": "markdown",
   "id": "interested-refrigerator",
   "metadata": {},
   "source": [
    "Now, we are ready to produce rhythms! \n",
    "\n",
    "By running the following cell with start_new set to True, you initialise an empty rhythmic stream and fill it with one note of duration new_duration. If you set start_new to False, you can keep adding new notes to the stream. Every time you append a new note, you can decide its duration by assigining a value to the variable new_duration. You can also insert rests, by changing the truth value of the is_rest variable."
   ]
  },
  {
   "cell_type": "code",
   "execution_count": 808,
   "id": "deluxe-battle",
   "metadata": {},
   "outputs": [
    {
     "data": {
      "image/png": "[encoded data removed]",
      "text/plain": [
       "<Figure size 720x432 with 1 Axes>"
      ]
     },
     "metadata": {
      "image/png": {
       "height": 382,
       "width": 584
      }
     },
     "output_type": "display_data"
    }
   ],
   "source": [
    "start_new = True\n",
    "\n",
    "#What duration do you want to add to the rhythm?\n",
    "new_duration = 1/8\n",
    "is_rest = False\n",
    "\n",
    "if start_new:\n",
    "    #If start_new is true, initialise a new rhythmic stream\n",
    "    initial = create_percussion()\n",
    "\n",
    "updated = initial\n",
    "updated = append_event(new_duration, updated, rest = is_rest)\n",
    "\n",
    "    \n",
    "updated.plot()\n",
    "play(updated)"
   ]
  },
  {
   "cell_type": "markdown",
   "id": "configured-hands",
   "metadata": {},
   "source": [
    "### Rhythm from list of durations"
   ]
  },
  {
   "cell_type": "markdown",
   "id": "fantastic-geneva",
   "metadata": {},
   "source": [
    "Instead of adding one percussion_hit at a time, we can specify a whole sequence of durations at once: "
   ]
  },
  {
   "cell_type": "code",
   "execution_count": 509,
   "id": "residential-resort",
   "metadata": {},
   "outputs": [],
   "source": [
    "def rhythm_from_sequence(durations, time_sig = None, pitch = 'C4'):\n",
    "    #Generate rhythmic stream from a list of durations. Rests are indicated by specifying a duration as a string\n",
    "    rhythm = create_percussion(time_sig = time_sig)\n",
    "    for dur in durations:\n",
    "        is_rest = False\n",
    "        if dur != 0:\n",
    "            if isinstance(dur, str):\n",
    "                #if duration is given as a string, interpret and rest and turn string into a numerical value\n",
    "                is_rest = True\n",
    "                dur = Fraction(dur)\n",
    "            \n",
    "            rhythm = append_event(dur, rhythm, rest = is_rest, pitch = pitch) \n",
    "    return rhythm\n"
   ]
  },
  {
   "cell_type": "markdown",
   "id": "agricultural-reward",
   "metadata": {},
   "source": [
    "Let's play and show a sequence of arbitrary durations:"
   ]
  },
  {
   "cell_type": "code",
   "execution_count": 515,
   "id": "answering-liabilities",
   "metadata": {},
   "outputs": [],
   "source": [
    "duration_sequence = [1/4, 1/8, 1/8, 1/4/3, 2/4/3, '1/8',  1/4]    \n",
    "rhythm = rhythm_from_sequence(duration_sequence)\n",
    "play(rhythm)    "
   ]
  },
  {
   "cell_type": "code",
   "execution_count": 516,
   "id": "communist-recommendation",
   "metadata": {},
   "outputs": [
    {
     "data": {
      "image/png": "[encoded data removed]",
      "text/plain": [
       "<IPython.core.display.Image object>"
      ]
     },
     "metadata": {
      "image/png": {
       "height": 53,
       "width": 674
      }
     },
     "output_type": "display_data"
    }
   ],
   "source": [
    "rhythm.show()"
   ]
  },
  {
   "cell_type": "code",
   "execution_count": 107,
   "id": "communist-australia",
   "metadata": {},
   "outputs": [
    {
     "data": {
      "image/png": "[encoded data removed]",
      "text/plain": [
       "<Figure size 720x432 with 1 Axes>"
      ]
     },
     "metadata": {
      "image/png": {
       "height": 382,
       "width": 584
      }
     },
     "output_type": "display_data"
    }
   ],
   "source": [
    "rhythm.plot()"
   ]
  },
  {
   "cell_type": "markdown",
   "id": "editorial-finding",
   "metadata": {},
   "source": [
    "# 2. Markovian generation"
   ]
  },
  {
   "cell_type": "markdown",
   "id": "comprehensive-allocation",
   "metadata": {},
   "source": [
    "Music is about *organising* sounds in time. As a consequence, we want our rhythms to be governed by some generative principle. A possible generative principle is to specify the probability for any new duration in a sequence given the preceding duration(s). Here is an example of a markovian rhythm."
   ]
  },
  {
   "cell_type": "markdown",
   "id": "laughing-purple",
   "metadata": {},
   "source": [
    "First, we decide what our \"alphabet\" of durations is going to be. In this case, just as an example, we start with two elementary durations: the sixteenth-note (duration 1/16, or one quarter of a quarter-note) and the triplet of eigth-notes (duration 1/12, or one third of a quarter-note). "
   ]
  },
  {
   "cell_type": "code",
   "execution_count": 108,
   "id": "public-hands",
   "metadata": {},
   "outputs": [],
   "source": [
    "ELEMENTARY_DURATIONS = [(1/4)/4, (1/4)/3] #Our set of elementary durations comprises a binary (a sixtheenth-note) and a ternary (triplet) duration"
   ]
  },
  {
   "cell_type": "markdown",
   "id": "amber-finnish",
   "metadata": {},
   "source": [
    "We generate other durations by combining up to MAX_COMPONENTS elementary durations:"
   ]
  },
  {
   "cell_type": "code",
   "execution_count": 109,
   "id": "mineral-hearts",
   "metadata": {},
   "outputs": [],
   "source": [
    "MAX_COMPONENTS = 4\n",
    "\n",
    "def generate_duration(elementary_durations = ELEMENTARY_DURATIONS, max_comp = MAX_COMPONENTS):\n",
    "    #Randomly generate a legal duration by assembling up to max_comp components drawn from the elementary durations\n",
    "    \n",
    "    dur = random.choice(elementary_durations) #initialize by picking an elemenary duration at random\n",
    "    \n",
    "    for i in range(max_comp-1): #iterate max_comp times\n",
    "        if random.random() > 0.5: #randomly determine whether to add a component or not\n",
    "            dur += random.choice(elementary_durations) #randomly select a binary or ternary component\n",
    "            \n",
    "    return dur"
   ]
  },
  {
   "cell_type": "markdown",
   "id": "expired-schema",
   "metadata": {},
   "source": [
    "As a consequence, the alphabet of all possible durations is:"
   ]
  },
  {
   "cell_type": "code",
   "execution_count": 110,
   "id": "married-clear",
   "metadata": {},
   "outputs": [
    {
     "data": {
      "text/plain": [
       "[0.0625,\n",
       " 0.08333333333333333,\n",
       " 0.125,\n",
       " 0.14583333333333331,\n",
       " 0.16666666666666666,\n",
       " 0.1875,\n",
       " 0.20833333333333331,\n",
       " 0.22916666666666663,\n",
       " 0.25,\n",
       " 0.25,\n",
       " 0.2708333333333333,\n",
       " 0.29166666666666663,\n",
       " 0.31249999999999994,\n",
       " 0.3333333333333333]"
      ]
     },
     "execution_count": 110,
     "metadata": {},
     "output_type": "execute_result"
    }
   ],
   "source": [
    "def all_durations(elementary_durations = ELEMENTARY_DURATIONS, max_comp = MAX_COMPONENTS):\n",
    "    #Compute all possible legal durations\n",
    "    \n",
    "    compute_durations = [list(itertools.combinations_with_replacement(elementary_durations, i)) for i in range(1,max_comp+1)]\n",
    "    flatten_durations = flatten_list(compute_durations)\n",
    "    return list(map(sum, flatten_durations))\n",
    "\n",
    "all_durations()"
   ]
  },
  {
   "cell_type": "markdown",
   "id": "awful-termination",
   "metadata": {},
   "source": [
    "For each possible durations x and y, we need to specify the probability for duration x to follow duration y in a rhythmic sequence. As an example, we adopt here the following simple criterion. We divide our alphabet of durations in two classes: the durations that only comprise binary elementary components and the durations that also comprise ternary elementary components. We then decide that a duration is 4 times more likely to be followed by a duration from the same class than by a duration from the other class."
   ]
  },
  {
   "cell_type": "code",
   "execution_count": 111,
   "id": "fallen-insurance",
   "metadata": {},
   "outputs": [],
   "source": [
    "def transition_probs(last_dur, new_dur):\n",
    "    #Transition probability of new_dur given the previous duration last_dur\n",
    "    #Here, we have two categories of rhythmic values (pure binary vs. ternary/hybrid). \n",
    "    #We make it 4 times more likely for new_dur to fall in the same category than to switch\n",
    "    if int(last_dur*4) == last_dur*4:\n",
    "        if int(new_dur*4) == new_dur*4:\n",
    "            return 0.8\n",
    "        else:\n",
    "            return 0.2\n",
    "    else:\n",
    "        if int(new_dur*4) == new_dur*4:\n",
    "            return 0.2\n",
    "        else:\n",
    "            return 0.8"
   ]
  },
  {
   "cell_type": "markdown",
   "id": "impressive-deputy",
   "metadata": {},
   "source": [
    "All that is left to do is to generate stochastically a rhythmic sequence by drawing each new duration from our alphabet of durations based on a probability distribution that depends on the immediately preceding duration. "
   ]
  },
  {
   "cell_type": "code",
   "execution_count": 112,
   "id": "aquatic-eleven",
   "metadata": {},
   "outputs": [],
   "source": [
    "def new_duration(last_dur, elementary_durations = ELEMENTARY_DURATIONS, max_components = MAX_COMPONENTS):\n",
    "    #Generate new duration given previous duration last_dur\n",
    "    all_dur = all_durations(elementary_durations, max_components)\n",
    "    \n",
    "    return random.choices(all_dur, [transition_probs(last_dur, x) for x in all_dur])[0] #draw from all_dur according to a probability distribution given by transition_probs\n",
    "    \n",
    "    \n",
    "def generate_rhythm(l, current = None):\n",
    "    #Generate recursively a sequence of durations comprising l events\n",
    "    if current == None:\n",
    "        #initialise with a random legal duration\n",
    "        dur_sequence = [generate_duration()]\n",
    "    else:\n",
    "        dur_sequence = current\n",
    "        \n",
    "    if l>1:\n",
    "        #Call the function generate_rhythm recursively to generate all durations from position 2 to position l in the sequence\n",
    "        new = new_duration(dur_sequence[-1])\n",
    "        dur_sequence += [new]\n",
    "        return generate_rhythm(l-1, current = dur_sequence)\n",
    "    else:\n",
    "        return dur_sequence"
   ]
  },
  {
   "cell_type": "code",
   "execution_count": 113,
   "id": "approved-manhattan",
   "metadata": {},
   "outputs": [],
   "source": [
    "play(rhythm_from_sequence(generate_rhythm(20)))"
   ]
  },
  {
   "cell_type": "markdown",
   "id": "brave-prisoner",
   "metadata": {},
   "source": [
    "# 3. Train Markov chain"
   ]
  },
  {
   "cell_type": "markdown",
   "id": "coupled-festival",
   "metadata": {},
   "source": [
    "Now, instead of specifying the transition probabilities arbitrarily, we can infer them from some other stochastic process: for example, word lengths in a literary text. \n",
    "\n",
    "`NLTK`, a python library for natural language processing, provides us with the tools to do it. First, let's take the text of Carrol's Alice in Wonderland from `nltk`'s corpus, extract the words as a list, and filter out the punctuation. Finally, we map each word into its length. We obtain a list of numbers."
   ]
  },
  {
   "cell_type": "code",
   "execution_count": 114,
   "id": "advisory-omega",
   "metadata": {},
   "outputs": [],
   "source": [
    "alice_in_wonderland = nltk.corpus.gutenberg.words('carroll-alice.txt') #import word list from Alice in Wonderland\n",
    "ALICE = list(filter(lambda word: np.product([character not in string.punctuation for character in word ]), alice_in_wonderland)) # filter out punctuation\n",
    "ALICE_length = list(map(len, ALICE)) # map each word into its length"
   ]
  },
  {
   "cell_type": "markdown",
   "id": "transparent-logging",
   "metadata": {},
   "source": [
    "With the `mchmm` package we can now train a markov chain on the list of word lengths: e.g., how likely is it for a word of length 3 to follow a ford of length 1?"
   ]
  },
  {
   "cell_type": "code",
   "execution_count": 115,
   "id": "neither-architect",
   "metadata": {},
   "outputs": [],
   "source": [
    "#Train Markov model on the sequence of word lengths\n",
    "ALICE_markov = mchmm.MarkovChain().from_data(ALICE_length)"
   ]
  },
  {
   "cell_type": "markdown",
   "id": "wired-swaziland",
   "metadata": {},
   "source": [
    "We can show the matrix of obserbed transition counts from a word of length x to a word of length y as a `pandas` DataFrame:"
   ]
  },
  {
   "cell_type": "code",
   "execution_count": 116,
   "id": "black-excuse",
   "metadata": {},
   "outputs": [
    {
     "data": {
      "text/html": [
       "<div>\n",
       "<style scoped>\n",
       "    .dataframe tbody tr th:only-of-type {\n",
       "        vertical-align: middle;\n",
       "    }\n",
       "\n",
       "    .dataframe tbody tr th {\n",
       "        vertical-align: top;\n",
       "    }\n",
       "\n",
       "    .dataframe thead th {\n",
       "        text-align: right;\n",
       "    }\n",
       "</style>\n",
       "<table border=\"1\" class=\"dataframe\">\n",
       "  <thead>\n",
       "    <tr style=\"text-align: right;\">\n",
       "      <th></th>\n",
       "      <th>1</th>\n",
       "      <th>2</th>\n",
       "      <th>3</th>\n",
       "      <th>4</th>\n",
       "      <th>5</th>\n",
       "      <th>6</th>\n",
       "      <th>7</th>\n",
       "      <th>8</th>\n",
       "      <th>9</th>\n",
       "      <th>10</th>\n",
       "      <th>11</th>\n",
       "      <th>12</th>\n",
       "      <th>13</th>\n",
       "      <th>14</th>\n",
       "    </tr>\n",
       "  </thead>\n",
       "  <tbody>\n",
       "    <tr>\n",
       "      <th>1</th>\n",
       "      <td>105</td>\n",
       "      <td>148</td>\n",
       "      <td>274</td>\n",
       "      <td>448</td>\n",
       "      <td>273</td>\n",
       "      <td>238</td>\n",
       "      <td>122</td>\n",
       "      <td>39</td>\n",
       "      <td>30</td>\n",
       "      <td>16</td>\n",
       "      <td>4</td>\n",
       "      <td>5</td>\n",
       "      <td>0</td>\n",
       "      <td>0</td>\n",
       "    </tr>\n",
       "    <tr>\n",
       "      <th>2</th>\n",
       "      <td>331</td>\n",
       "      <td>560</td>\n",
       "      <td>1396</td>\n",
       "      <td>935</td>\n",
       "      <td>484</td>\n",
       "      <td>265</td>\n",
       "      <td>235</td>\n",
       "      <td>87</td>\n",
       "      <td>72</td>\n",
       "      <td>29</td>\n",
       "      <td>9</td>\n",
       "      <td>7</td>\n",
       "      <td>3</td>\n",
       "      <td>0</td>\n",
       "    </tr>\n",
       "    <tr>\n",
       "      <th>3</th>\n",
       "      <td>392</td>\n",
       "      <td>766</td>\n",
       "      <td>1469</td>\n",
       "      <td>1759</td>\n",
       "      <td>1095</td>\n",
       "      <td>616</td>\n",
       "      <td>465</td>\n",
       "      <td>264</td>\n",
       "      <td>126</td>\n",
       "      <td>47</td>\n",
       "      <td>51</td>\n",
       "      <td>9</td>\n",
       "      <td>3</td>\n",
       "      <td>2</td>\n",
       "    </tr>\n",
       "    <tr>\n",
       "      <th>4</th>\n",
       "      <td>426</td>\n",
       "      <td>1113</td>\n",
       "      <td>1639</td>\n",
       "      <td>1072</td>\n",
       "      <td>591</td>\n",
       "      <td>356</td>\n",
       "      <td>303</td>\n",
       "      <td>135</td>\n",
       "      <td>80</td>\n",
       "      <td>39</td>\n",
       "      <td>19</td>\n",
       "      <td>4</td>\n",
       "      <td>4</td>\n",
       "      <td>1</td>\n",
       "    </tr>\n",
       "    <tr>\n",
       "      <th>5</th>\n",
       "      <td>219</td>\n",
       "      <td>649</td>\n",
       "      <td>949</td>\n",
       "      <td>611</td>\n",
       "      <td>327</td>\n",
       "      <td>230</td>\n",
       "      <td>194</td>\n",
       "      <td>85</td>\n",
       "      <td>45</td>\n",
       "      <td>21</td>\n",
       "      <td>7</td>\n",
       "      <td>2</td>\n",
       "      <td>0</td>\n",
       "      <td>1</td>\n",
       "    </tr>\n",
       "    <tr>\n",
       "      <th>6</th>\n",
       "      <td>101</td>\n",
       "      <td>442</td>\n",
       "      <td>525</td>\n",
       "      <td>373</td>\n",
       "      <td>216</td>\n",
       "      <td>97</td>\n",
       "      <td>96</td>\n",
       "      <td>45</td>\n",
       "      <td>41</td>\n",
       "      <td>10</td>\n",
       "      <td>4</td>\n",
       "      <td>1</td>\n",
       "      <td>1</td>\n",
       "      <td>0</td>\n",
       "    </tr>\n",
       "    <tr>\n",
       "      <th>7</th>\n",
       "      <td>79</td>\n",
       "      <td>397</td>\n",
       "      <td>415</td>\n",
       "      <td>282</td>\n",
       "      <td>160</td>\n",
       "      <td>74</td>\n",
       "      <td>75</td>\n",
       "      <td>41</td>\n",
       "      <td>31</td>\n",
       "      <td>9</td>\n",
       "      <td>4</td>\n",
       "      <td>4</td>\n",
       "      <td>0</td>\n",
       "      <td>0</td>\n",
       "    </tr>\n",
       "    <tr>\n",
       "      <th>8</th>\n",
       "      <td>20</td>\n",
       "      <td>166</td>\n",
       "      <td>208</td>\n",
       "      <td>140</td>\n",
       "      <td>85</td>\n",
       "      <td>32</td>\n",
       "      <td>42</td>\n",
       "      <td>13</td>\n",
       "      <td>7</td>\n",
       "      <td>5</td>\n",
       "      <td>4</td>\n",
       "      <td>1</td>\n",
       "      <td>0</td>\n",
       "      <td>0</td>\n",
       "    </tr>\n",
       "    <tr>\n",
       "      <th>9</th>\n",
       "      <td>11</td>\n",
       "      <td>99</td>\n",
       "      <td>106</td>\n",
       "      <td>97</td>\n",
       "      <td>63</td>\n",
       "      <td>26</td>\n",
       "      <td>21</td>\n",
       "      <td>9</td>\n",
       "      <td>9</td>\n",
       "      <td>3</td>\n",
       "      <td>3</td>\n",
       "      <td>0</td>\n",
       "      <td>0</td>\n",
       "      <td>0</td>\n",
       "    </tr>\n",
       "    <tr>\n",
       "      <th>10</th>\n",
       "      <td>8</td>\n",
       "      <td>46</td>\n",
       "      <td>38</td>\n",
       "      <td>43</td>\n",
       "      <td>20</td>\n",
       "      <td>9</td>\n",
       "      <td>10</td>\n",
       "      <td>3</td>\n",
       "      <td>3</td>\n",
       "      <td>0</td>\n",
       "      <td>1</td>\n",
       "      <td>0</td>\n",
       "      <td>0</td>\n",
       "      <td>0</td>\n",
       "    </tr>\n",
       "    <tr>\n",
       "      <th>11</th>\n",
       "      <td>6</td>\n",
       "      <td>19</td>\n",
       "      <td>29</td>\n",
       "      <td>17</td>\n",
       "      <td>12</td>\n",
       "      <td>8</td>\n",
       "      <td>7</td>\n",
       "      <td>1</td>\n",
       "      <td>3</td>\n",
       "      <td>2</td>\n",
       "      <td>2</td>\n",
       "      <td>1</td>\n",
       "      <td>0</td>\n",
       "      <td>1</td>\n",
       "    </tr>\n",
       "    <tr>\n",
       "      <th>12</th>\n",
       "      <td>3</td>\n",
       "      <td>6</td>\n",
       "      <td>10</td>\n",
       "      <td>4</td>\n",
       "      <td>9</td>\n",
       "      <td>0</td>\n",
       "      <td>1</td>\n",
       "      <td>1</td>\n",
       "      <td>0</td>\n",
       "      <td>0</td>\n",
       "      <td>0</td>\n",
       "      <td>0</td>\n",
       "      <td>0</td>\n",
       "      <td>0</td>\n",
       "    </tr>\n",
       "    <tr>\n",
       "      <th>13</th>\n",
       "      <td>0</td>\n",
       "      <td>1</td>\n",
       "      <td>5</td>\n",
       "      <td>1</td>\n",
       "      <td>3</td>\n",
       "      <td>1</td>\n",
       "      <td>0</td>\n",
       "      <td>0</td>\n",
       "      <td>0</td>\n",
       "      <td>0</td>\n",
       "      <td>0</td>\n",
       "      <td>0</td>\n",
       "      <td>0</td>\n",
       "      <td>0</td>\n",
       "    </tr>\n",
       "    <tr>\n",
       "      <th>14</th>\n",
       "      <td>1</td>\n",
       "      <td>1</td>\n",
       "      <td>1</td>\n",
       "      <td>1</td>\n",
       "      <td>1</td>\n",
       "      <td>0</td>\n",
       "      <td>0</td>\n",
       "      <td>0</td>\n",
       "      <td>0</td>\n",
       "      <td>0</td>\n",
       "      <td>0</td>\n",
       "      <td>0</td>\n",
       "      <td>0</td>\n",
       "      <td>0</td>\n",
       "    </tr>\n",
       "  </tbody>\n",
       "</table>\n",
       "</div>"
      ],
      "text/plain": [
       "     1     2     3     4     5    6    7    8    9   10  11  12  13  14\n",
       "1   105   148   274   448   273  238  122   39   30  16   4   5   0   0\n",
       "2   331   560  1396   935   484  265  235   87   72  29   9   7   3   0\n",
       "3   392   766  1469  1759  1095  616  465  264  126  47  51   9   3   2\n",
       "4   426  1113  1639  1072   591  356  303  135   80  39  19   4   4   1\n",
       "5   219   649   949   611   327  230  194   85   45  21   7   2   0   1\n",
       "6   101   442   525   373   216   97   96   45   41  10   4   1   1   0\n",
       "7    79   397   415   282   160   74   75   41   31   9   4   4   0   0\n",
       "8    20   166   208   140    85   32   42   13    7   5   4   1   0   0\n",
       "9    11    99   106    97    63   26   21    9    9   3   3   0   0   0\n",
       "10    8    46    38    43    20    9   10    3    3   0   1   0   0   0\n",
       "11    6    19    29    17    12    8    7    1    3   2   2   1   0   1\n",
       "12    3     6    10     4     9    0    1    1    0   0   0   0   0   0\n",
       "13    0     1     5     1     3    1    0    0    0   0   0   0   0   0\n",
       "14    1     1     1     1     1    0    0    0    0   0   0   0   0   0"
      ]
     },
     "execution_count": 116,
     "metadata": {},
     "output_type": "execute_result"
    }
   ],
   "source": [
    "#Showing the transition (frequency) matrix\n",
    "pd.DataFrame(ALICE_markov.observed_matrix, index = ALICE_markov.states, columns = ALICE_markov.states, dtype = int)"
   ]
  },
  {
   "cell_type": "markdown",
   "id": "undefined-browser",
   "metadata": {},
   "source": [
    "Now, we can generate a new sequence of integers (word lengths) with the markov model trained on Carrol's text. The `simulate` method of a `mchmm.MarkovChain()` object returns a list of *states* (i.e., actual word lengths) and the list of their *ID*s (i.e., the ordinal position of each state among the possible wordlengths that have been found in Carrol's text). "
   ]
  },
  {
   "cell_type": "code",
   "execution_count": 117,
   "id": "exact-madagascar",
   "metadata": {},
   "outputs": [],
   "source": [
    "#Simulate sequence of durations from ALICE_markov\n",
    "LENGTH_OF_SEQUENCE = 12 #number of events to generate\n",
    "\n",
    "#Markovian generation, starting with word length 3 (arbitrary).\n",
    "ids, states = ALICE_markov.simulate(LENGTH_OF_SEQUENCE, start=3, seed=np.random.randint(0, LENGTH_OF_SEQUENCE, LENGTH_OF_SEQUENCE))"
   ]
  },
  {
   "cell_type": "markdown",
   "id": "vulnerable-registration",
   "metadata": {},
   "source": [
    "We can now play the resulting sequence. First, we need to decide a scaling factor to turn integers into durations (here, we opt to equate a letter to a sixteenth-note)."
   ]
  },
  {
   "cell_type": "code",
   "execution_count": 118,
   "id": "alternative-activation",
   "metadata": {},
   "outputs": [],
   "source": [
    "play(rhythm_from_sequence(states*1/16)) #With scaling factor 1/16"
   ]
  },
  {
   "cell_type": "markdown",
   "id": "upset-virtue",
   "metadata": {},
   "source": [
    "# 4. Hierarchical generation of rhythm"
   ]
  },
  {
   "cell_type": "markdown",
   "id": "marine-worcester",
   "metadata": {},
   "source": [
    "In a Markov model, each rhythmic event depends on the preceding one(s). A different approach to modelling rhythm is to interpret rhythmic events as recursive elaborations of a latent rhythmic structure. The following example of hierarchical rhythm generation is based on the grammar from Rohrmeier (2020) https://program.ismir2020.net/poster_4-20.html."
   ]
  },
  {
   "cell_type": "markdown",
   "id": "chief-armstrong",
   "metadata": {},
   "source": [
    "## Rhythmic objects"
   ]
  },
  {
   "cell_type": "markdown",
   "id": "invisible-newport",
   "metadata": {},
   "source": [
    "First, in this formalism, a rhythmic category is a 3-ple of parameters defining a time-span: the upbeat, the body and the tail. The body represents the \"ideal\" duration of the timespan, if no extensions or timestealing happen. The upbeat encodes the addition (if positive) or subtraction (if negative) of a portion at the beginning of the timespan. Similarly, the coda encodes the addition (if positive) or subtraction (if negative) of a portion at the end of the timespan. As a consequence, the overall duration of a timespan (a, b, c) is a+b+c. \n",
    "\n",
    "Each rhythmic category can generate other rhythmic categories by means of the application of a rule:\n",
    "- **Split**: this rule splits a rhythmic category into two \"children\" by dividing the body into two parts. The left child inherits the upbeat of the parent category, while the right child inherits the coda of the parent category. Finally, the right child might \"steal\" a portion from the left child (if the right child has a positive upbeat), or vice-versa (if the right child has a negative upbeat). The split rule comes with two parameters. First, the split ratio (which is often 1/2, representing an equal split). The second parameter is optional, andspecifies the upbeat of the right child (default is 0).\n",
    "- **Prepare**: this rule separates the upbeat (if it is positive) from the body, creating two distinct rhytmic categories: one inherits the parent's upbeat as its own body, the other inherits the parent's body and tail (but has not upbeat).\n",
    "- **Anticipate and Delay**: these two rules are unary rules, i.e. the parent is simply transformed into one different category. In the anticipation (or e-shift) rule, the upbeat is absorbed into the body, so that the body of the timespan is shifted to the left. The delay (or l-shift) rule does the opposite.\n"
   ]
  },
  {
   "cell_type": "markdown",
   "id": "private-citizen",
   "metadata": {},
   "source": [
    "We define a rhythmic category as a `class`. Among the methods of this class we define the rule applications. "
   ]
  },
  {
   "cell_type": "code",
   "execution_count": 727,
   "id": "banner-character",
   "metadata": {},
   "outputs": [],
   "source": [
    "class rhythmic_category:\n",
    "    def __init__(self, upbeat, body, tail):\n",
    "        #Parameters\n",
    "        self.upbeat = upbeat\n",
    "        self.body = body\n",
    "        self.tail = tail\n",
    "        self.parameters = (upbeat, body, tail)\n",
    "       \n",
    "    def showScore(self):\n",
    "        #A helper function to display the rhythmic category. Shows a positive upbeat separately from the body+tail\n",
    "        sequence = [self.upbeat, self.body + self.tail]\n",
    "        if self.upbeat < 0:\n",
    "            sequence[0] = 0\n",
    "            sequence[1] += self.upbeat\n",
    "            \n",
    "        return rhythm_from_sequence(sequence).show()\n",
    "        \n",
    "        \n",
    "    \n",
    "        \n",
    "    ####    \n",
    "    #Rule applications\n",
    "    ####\n",
    "    \n",
    "    def split(self, ratio = 1/2, right_child_upbeat = 0):\n",
    "        #SPLIT operation on parent metrical category, based on ratio = left_child_body/parent.body. \n",
    "        #An upbeat for the right child can be specified.\n",
    "        left_child_body = self.body*ratio\n",
    "        right_child_body = self.body-left_child_body\n",
    "    \n",
    "        left_child_cat = rhythmic_category(self.upbeat, left_child_body, - right_child_upbeat)\n",
    "        right_child_cat = rhythmic_category(right_child_upbeat, right_child_body, self.tail)\n",
    "    \n",
    "        return list(deepflatten([left_child_cat, right_child_cat]))\n",
    "    \n",
    "    def prepare(self):\n",
    "        #UPBEAT rule: separates upbeat from body\n",
    "        if self.upbeat > 0:\n",
    "            left_child_cat = rhythmic_category(0, self.upbeat, 0)\n",
    "            right_child_cat = rhythmic_category(0, self.body, self.tail)\n",
    "    \n",
    "            return list(deepflatten([left_child_cat,  right_child_cat]))\n",
    "        else:\n",
    "            return [self]\n",
    "        \n",
    "    def e_shift(self):\n",
    "        #ANTICIPATE rule: shifts body to the left\n",
    "        return [rhythmic_category(0, self.body, self.upbeat+self.tail)]\n",
    "    \n",
    "    def l_shift(self):\n",
    "        #DELAY rule: shifts body to the right\n",
    "        return [rhythmic_category(self.upbeat + self.tail, self.body, 0)]\n",
    "    \n",
    "    ####\n",
    "    #Helpers to derive terminal durations at the end of a derivation\n",
    "    ####\n",
    "    \n",
    "    def timesteal(self):\n",
    "        #TIMESTEALING. If a category is left with negative upbeat or tail, subtract it from the body\n",
    "        new_upbeat = self.upbeat\n",
    "        new_tail = self.tail\n",
    "        timestolen_body = self.body\n",
    "        if self.upbeat < 0:\n",
    "            new_upbeat = 0\n",
    "            timestolen_body += self.upbeat\n",
    "        if self.tail < 0:\n",
    "            new_tail = 0\n",
    "            timestolen_body += self.tail\n",
    "        return [rhythmic_category(new_upbeat, timestolen_body, new_tail)]\n",
    "    \n",
    "    def attach_tail(self):\n",
    "        #Attach tail to body, to be used if tail > 0\n",
    "        return [rhythmic_category(self.upbeat, self.body+self.tail, 0)]\n",
    "\n",
    "    \n",
    "    def get_terminals(self):\n",
    "    #Recursively get terminal durations from metrical categories.\n",
    "    #If there is negative head or tail, interpret as timestealing. If there is positive head, interpret as preparation. If there is positive tail, attch it to the body.\n",
    "    \n",
    "        if (self.upbeat == 0) and (self.tail == 0):\n",
    "            return [self.body]\n",
    "        elif (self.upbeat < 0) | (self.tail < 0):\n",
    "            return  list(deepflatten([x.get_terminals() for x in self.timesteal()]))\n",
    "        elif self.tail > 0:\n",
    "            return  list(deepflatten([x.get_terminals() for x in self.attach_tail()]))\n",
    "        elif self.upbeat > 0:\n",
    "            return list(deepflatten([x.get_terminals() for x in self.prepare()]))\n",
    "    \n",
    "        \n",
    "        "
   ]
  },
  {
   "cell_type": "markdown",
   "id": "distinguished-acquisition",
   "metadata": {},
   "source": [
    "For example, here is a rhythmic category:"
   ]
  },
  {
   "cell_type": "code",
   "execution_count": 730,
   "id": "owned-small",
   "metadata": {},
   "outputs": [
    {
     "data": {
      "image/png": "[encoded data removed]",
      "text/plain": [
       "<IPython.core.display.Image object>"
      ]
     },
     "metadata": {
      "image/png": {
       "height": 49,
       "width": 234
      }
     },
     "output_type": "display_data"
    }
   ],
   "source": [
    "example_category = rhythmic_category(1/4, 1, 0)\n",
    "example_category.showScore()"
   ]
  },
  {
   "cell_type": "markdown",
   "id": "formal-impression",
   "metadata": {},
   "source": [
    "We can apply a split rule to this category, to obtain a list of two categories:"
   ]
  },
  {
   "cell_type": "code",
   "execution_count": 734,
   "id": "social-teach",
   "metadata": {},
   "outputs": [
    {
     "data": {
      "text/plain": [
       "[<__main__.rhythmic_category at 0x7ffd20588580>,\n",
       " <__main__.rhythmic_category at 0x7ffd205881f0>]"
      ]
     },
     "execution_count": 734,
     "metadata": {},
     "output_type": "execute_result"
    }
   ],
   "source": [
    "splitted_example = example_category.split(1/2)\n",
    "splitted_example"
   ]
  },
  {
   "cell_type": "code",
   "execution_count": 735,
   "id": "absolute-milan",
   "metadata": {},
   "outputs": [
    {
     "data": {
      "text/plain": [
       "[(0.25, 0.5, 0), (0, 0.5, 0)]"
      ]
     },
     "execution_count": 735,
     "metadata": {},
     "output_type": "execute_result"
    }
   ],
   "source": [
    "[child.parameters for child in splitted_example]"
   ]
  },
  {
   "cell_type": "markdown",
   "id": "underlying-banana",
   "metadata": {},
   "source": [
    "Note that this is an equal split where the children do not steal time from each other. Here we have a different split, where the right child has an upbeat:"
   ]
  },
  {
   "cell_type": "code",
   "execution_count": 737,
   "id": "narrative-estimate",
   "metadata": {},
   "outputs": [
    {
     "data": {
      "text/plain": [
       "[(0.25, 0.5, -0.0625), (0.0625, 0.5, 0)]"
      ]
     },
     "execution_count": 737,
     "metadata": {},
     "output_type": "execute_result"
    }
   ],
   "source": [
    "splitted_example_with_upbeat = example_category.split(1/2, 1/16)\n",
    "[child.parameters for child in splitted_example_with_upbeat]"
   ]
  },
  {
   "cell_type": "markdown",
   "id": "supposed-forge",
   "metadata": {},
   "source": [
    "## Generation"
   ]
  },
  {
   "cell_type": "markdown",
   "id": "athletic-camcorder",
   "metadata": {},
   "source": [
    "Starting with a \"root\" rhythmic category, we can apply these rules recursively to generate a rhythm within the timespan of the root.\n",
    "\n",
    "Let us first define some useful functions."
   ]
  },
  {
   "cell_type": "code",
   "execution_count": 751,
   "id": "every-watts",
   "metadata": {},
   "outputs": [],
   "source": [
    "def rule(rule_type, p1 = None, p2 = None):\n",
    "    #Returns dictionary specifying a rule with its parameters\n",
    "    \n",
    "    rule_def = {'type': rule_type}\n",
    "    \n",
    "    if p1 != None:\n",
    "        rule_def['p1'] = p1\n",
    "    if p2 != None:\n",
    "        rule_def['p2'] = p2\n",
    "    \n",
    "    return rule_def\n",
    "    \n",
    "\n",
    "def generate_hierarchical_rhythm(tree, starting_symbol, preterminal_string = []):\n",
    "    #Recursively generate rhythm from a hierarchy of rule applications\n",
    "    \n",
    "    if len(tree) == 0:\n",
    "        return preterminal_string + [starting_symbol]\n",
    "    else:\n",
    "        rule = tree[0]\n",
    "        if rule['type'] == 'split':\n",
    "            children = starting_symbol.split(ratio = rule['p1'], right_child_upbeat = rule['p2'])\n",
    "        elif rule['type'] == 'prepare':\n",
    "            children = starting_symbol.prepare()\n",
    "        elif rule['type'] == 'anticipate':\n",
    "            children = starting_symbol.e_shift()\n",
    "        elif rule['type'] == 'delay':\n",
    "            children = starting_symbol.l_shift()\n",
    "            \n",
    "               \n",
    "        for child_n in range(len(children)):\n",
    "            preterminal_string = generate_hierarchical_rhythm(tree[child_n+1], children[child_n], preterminal_string = preterminal_string)\n",
    "                \n",
    "    \n",
    "        return preterminal_string\n",
    "    \n",
    "\n",
    "def get_terminal_durations(rhythmic_categories):\n",
    "    #Turns list of pre-terminal categories in list of terminal durations\n",
    "    return list(deepflatten([x.get_terminals() for x in rhythmic_categories]))\n",
    "\n",
    "\n",
    "def hierarchical_rhythm(tree, starting_symbol):\n",
    "    #generate list of durations hierarchically\n",
    "    return get_terminal_durations(generate_hierarchical_rhythm(tree, starting_symbol))\n",
    "\n",
    "def rhythm(tree, starting_symbol, time_sig = None):\n",
    "    #Show score  \n",
    "    return rhythm_from_sequence(hierarchical_rhythm(tree, starting_symbol), time_sig = time_sig)\n",
    "    "
   ]
  },
  {
   "cell_type": "markdown",
   "id": "differential-daughter",
   "metadata": {},
   "source": [
    "In order to generate a rhythm, we need a root category and a recipe that specifies what rules are to be applied (and in what order).\n",
    "\n",
    "Here, as an example, we generate the initial rhythm from the Jazz standard \"Blue Bossa\" (Rohrmeier 2020). \n",
    "\n",
    "The rhythm lasts 4 bars (in 4/4 meter) plus a 1/4 upbeat, so that the root category is:"
   ]
  },
  {
   "cell_type": "code",
   "execution_count": 757,
   "id": "parental-ottawa",
   "metadata": {},
   "outputs": [
    {
     "data": {
      "image/png": "[encoded data removed]",
      "text/plain": [
       "<IPython.core.display.Image object>"
      ]
     },
     "metadata": {
      "image/png": {
       "height": 49,
       "width": 295
      }
     },
     "output_type": "display_data"
    }
   ],
   "source": [
    "root = rhythmic_category(1/4, 4, 0)\n",
    "root.showScore()"
   ]
  },
  {
   "cell_type": "markdown",
   "id": "manufactured-addiction",
   "metadata": {},
   "source": [
    "The recipe to generate a rhythm can be represented in the form of a derivation tree. Each node of the tree is occupied by a rhythmic category, and the branches originating at a node lead to the children of that node under some rule application. A full derivation tree for Blue Bossa is the following: "
   ]
  },
  {
   "cell_type": "markdown",
   "id": "similar-inquiry",
   "metadata": {},
   "source": [
    "<img src=\"HierarchicalRhythm.png\">"
   ]
  },
  {
   "cell_type": "markdown",
   "id": "accessory-future",
   "metadata": {},
   "source": [
    "Let us start from the top of the tree, where we find the root category. The first branching is a split rule (the body is split in half), leading to two children nodes. We can represent a node of the tree as a list, containing the rule applied at that node (if any), as well as its children nodes. In the case of the topmost node in the above tree, the rule is a split with ratio 1/2 and right-child's head 1/4. Since we are not applying any rule to the two children nodes (yet), they are represented as empty lists. "
   ]
  },
  {
   "cell_type": "code",
   "execution_count": 758,
   "id": "forbidden-county",
   "metadata": {},
   "outputs": [],
   "source": [
    "tree = [rule('split',1/2, 1/4), #root\n",
    "            [], #left child of the root\n",
    "            []  #right child of the root\n",
    "       ]"
   ]
  },
  {
   "cell_type": "markdown",
   "id": "exterior-marijuana",
   "metadata": {},
   "source": [
    "The function `rhythm` takes a tree and a root as arguments and returns a music21 stream with the resulting rhythm. In order to do that, it calls the recursive function `generate_hierarchical_rhythm` that reads the tree and applies the rule applications, starting with the root category."
   ]
  },
  {
   "cell_type": "code",
   "execution_count": 759,
   "id": "ancient-darwin",
   "metadata": {},
   "outputs": [
    {
     "data": {
      "image/png": "[encoded data removed]",
      "text/plain": [
       "<IPython.core.display.Image object>"
      ]
     },
     "metadata": {
      "image/png": {
       "height": 49,
       "width": 674
      }
     },
     "output_type": "display_data"
    }
   ],
   "source": [
    "generated_rhythm = rhythm(tree, root)\n",
    "generated_rhythm.show()"
   ]
  },
  {
   "cell_type": "markdown",
   "id": "infrared-logistics",
   "metadata": {},
   "source": [
    "Let's look now at the left child of the root node. Here, another split rule is applied, resulting in two children with equal body (split factor 1/2) and a 1/8 upbeat for the right child. "
   ]
  },
  {
   "cell_type": "code",
   "execution_count": 760,
   "id": "polar-rider",
   "metadata": {},
   "outputs": [
    {
     "data": {
      "image/png": "[encoded data removed]",
      "text/plain": [
       "<IPython.core.display.Image object>"
      ]
     },
     "metadata": {
      "image/png": {
       "height": 49,
       "width": 674
      }
     },
     "output_type": "display_data"
    }
   ],
   "source": [
    "tree = [rule('split',1/2, 1/4), #root\n",
    "            [rule('split', 1/2, 1/8), #left child of the root\n",
    "                 [], #left child of the left child of the root\n",
    "                 []  #right child of the left child of the root\n",
    "            ],\n",
    "            [] #right child of the root\n",
    "       ]\n",
    "generated_rhythm = rhythm(tree, root)\n",
    "generated_rhythm.show()\n",
    "play(generated_rhythm)"
   ]
  },
  {
   "cell_type": "markdown",
   "id": "foster-dining",
   "metadata": {},
   "source": [
    "The left child of the left child of the root also undergoes a split operation..."
   ]
  },
  {
   "cell_type": "code",
   "execution_count": 762,
   "id": "confident-religion",
   "metadata": {},
   "outputs": [
    {
     "data": {
      "image/png": "[encoded data removed]",
      "text/plain": [
       "<IPython.core.display.Image object>"
      ]
     },
     "metadata": {
      "image/png": {
       "height": 49,
       "width": 674
      }
     },
     "output_type": "display_data"
    }
   ],
   "source": [
    "tree = [rule('split',1/2, 1/4), #root\n",
    "            [rule('split', 1/2, 1/8), #left child of the root\n",
    "                 [rule('split', 1/2, 1/8), #left child of the left child of the root\n",
    "                      [], #left child of the left child of the left child of the root\n",
    "                      []  #right child of the left child of the left child of the root\n",
    "                 ],\n",
    "                 [] #right child of the left child of the root\n",
    "            ],\n",
    "            [] #right child of the root\n",
    "       ]\n",
    "generated_rhythm = rhythm(tree, root)\n",
    "generated_rhythm.show()\n",
    "play(generated_rhythm)"
   ]
  },
  {
   "cell_type": "markdown",
   "id": "written-given",
   "metadata": {},
   "source": [
    "... while its own left child (i.e., of the left child of the left child of the root) undergoes a preparation rule..."
   ]
  },
  {
   "cell_type": "code",
   "execution_count": 763,
   "id": "typical-rochester",
   "metadata": {},
   "outputs": [
    {
     "data": {
      "image/png": "[encoded data removed]",
      "text/plain": [
       "<IPython.core.display.Image object>"
      ]
     },
     "metadata": {
      "image/png": {
       "height": 49,
       "width": 674
      }
     },
     "output_type": "display_data"
    }
   ],
   "source": [
    "tree = [rule('split',1/2, 1/4), #root\n",
    "            [rule('split', 1/2, 1/8), #left child of the root\n",
    "                 [rule('split', 1/2, 1/8), #left child of the left child of the root\n",
    "                      [rule('prepare'), #left child of the left child of the left child of the root\n",
    "                           [], #left child of the left child of the left child of the left child of the root\n",
    "                           []  #right child of the left child of the left child of the left child of the root\n",
    "                      ],\n",
    "                      [] #right child of the left child of the left child of the root\n",
    "                 ],\n",
    "                 [] #right child of the left child of the root\n",
    "            ],\n",
    "            [] #right child of the root\n",
    "       ]\n",
    "generated_rhythm = rhythm(tree, root)\n",
    "generated_rhythm.show()\n",
    "play(generated_rhythm)"
   ]
  },
  {
   "cell_type": "markdown",
   "id": "ignored-report",
   "metadata": {},
   "source": [
    "... similarly to the right child of the left child of the left child of the root:"
   ]
  },
  {
   "cell_type": "code",
   "execution_count": 419,
   "id": "atomic-exposure",
   "metadata": {},
   "outputs": [
    {
     "data": {
      "image/png": "[encoded data removed]",
      "text/plain": [
       "<IPython.core.display.Image object>"
      ]
     },
     "metadata": {
      "image/png": {
       "height": 49,
       "width": 674
      }
     },
     "output_type": "display_data"
    }
   ],
   "source": [
    "tree = [rule('split',1/2, 1/4),\n",
    "            [rule('split', 1/2, 1/8),\n",
    "                 [rule('split', 1/2, 1/8),\n",
    "                      [rule('prepare'),\n",
    "                           [],\n",
    "                           []\n",
    "                      ],\n",
    "                      [rule('prepare'),\n",
    "                           [],\n",
    "                           []\n",
    "                      ]\n",
    "                 ],\n",
    "                 []\n",
    "            ],\n",
    "            []\n",
    "       ]\n",
    "generated_rhythm = rhythm(tree, root)\n",
    "generated_rhythm.show()\n",
    "play(generated_rhythm)"
   ]
  },
  {
   "cell_type": "markdown",
   "id": "configured-shame",
   "metadata": {},
   "source": [
    "The right child of this preparation rule is further elaborated with a split, whose right child is then anticipated:"
   ]
  },
  {
   "cell_type": "code",
   "execution_count": 422,
   "id": "unique-specification",
   "metadata": {},
   "outputs": [
    {
     "data": {
      "image/png": "[encoded data removed]",
      "text/plain": [
       "<IPython.core.display.Image object>"
      ]
     },
     "metadata": {
      "image/png": {
       "height": 49,
       "width": 674
      }
     },
     "output_type": "display_data"
    }
   ],
   "source": [
    "tree = [rule('split',1/2, 1/4),\n",
    "            [rule('split', 1/2, 1/8),\n",
    "                 [rule('split', 1/2, 1/8),\n",
    "                      [rule('prepare'),\n",
    "                           [],\n",
    "                           []\n",
    "                      ],\n",
    "                      [rule('prepare'),\n",
    "                           [],\n",
    "                           [rule('split', 1/2, 1/8),\n",
    "                                [],\n",
    "                                [rule('anticipate'),\n",
    "                                     []\n",
    "                                ]\n",
    "                           ]\n",
    "                      ]\n",
    "                 ],\n",
    "                 []\n",
    "            ],\n",
    "            []\n",
    "       ]\n",
    "generated_rhythm = rhythm(tree, root)\n",
    "generated_rhythm.show()\n",
    "play(generated_rhythm)"
   ]
  },
  {
   "cell_type": "markdown",
   "id": "technological-plate",
   "metadata": {},
   "source": [
    "Fast-forward to the whole tree:"
   ]
  },
  {
   "cell_type": "code",
   "execution_count": 769,
   "id": "clear-illustration",
   "metadata": {},
   "outputs": [
    {
     "data": {
      "image/png": "[encoded data removed]",
      "text/plain": [
       "<IPython.core.display.Image object>"
      ]
     },
     "metadata": {
      "image/png": {
       "height": 57,
       "width": 674
      }
     },
     "output_type": "display_data"
    }
   ],
   "source": [
    "complete_tree = [rule('split',1/2, 1/4),\n",
    "            [rule('split', 1/2, 1/8),\n",
    "                 [rule('split', 1/2, 1/8),\n",
    "                      [rule('prepare'),\n",
    "                           [],\n",
    "                           []\n",
    "                      ],\n",
    "                      [rule('prepare'),\n",
    "                           [],\n",
    "                           [rule('split', 1/2, 1/8),\n",
    "                                [],\n",
    "                                [rule('anticipate'),\n",
    "                                     []\n",
    "                                ]\n",
    "                           ]\n",
    "                      ]\n",
    "                 ],\n",
    "                 [rule('anticipate'),\n",
    "                     []\n",
    "                 ]\n",
    "            ],\n",
    "            [rule('split', 1/2, 1/8),\n",
    "                 [rule('split', 1/2, 1/8),\n",
    "                      [rule('prepare'),\n",
    "                           [],\n",
    "                           []\n",
    "                      ],\n",
    "                      [rule('anticipate'),\n",
    "                           []\n",
    "                      ]\n",
    "                 ],\n",
    "                 [rule('anticipate'),\n",
    "                      []\n",
    "                 ]\n",
    "            ]\n",
    "       ]\n",
    "\n",
    "generated_rhythm_complete = rhythm(complete_tree, root)\n",
    "generated_rhythm_complete.show()\n",
    "play(generated_rhythm_complete)"
   ]
  },
  {
   "cell_type": "markdown",
   "id": "blessed-liver",
   "metadata": {},
   "source": [
    "Now that we have the rhythm, we can add the melody:"
   ]
  },
  {
   "cell_type": "code",
   "execution_count": 781,
   "id": "criminal-multiple",
   "metadata": {},
   "outputs": [
    {
     "data": {
      "image/png": "[encoded data removed]",
      "text/plain": [
       "<IPython.core.display.Image object>"
      ]
     },
     "metadata": {
      "image/png": {
       "height": 51,
       "width": 674
      }
     },
     "output_type": "display_data"
    }
   ],
   "source": [
    "melody_pitches = ['G4', 'G5', 'F5', 'Eb5', 'D5', 'C5', 'Bb4', 'Ab4', 'G5', 'F5']\n",
    "melody_durations = hierarchical_rhythm(complete_tree, root)\n",
    "melody = stream.Measure()\n",
    "melody.append(key.KeySignature(-3))\n",
    "for i in range(len(melody_pitches)):\n",
    "    melody.append(note.Note(pitch = melody_pitches[i], quarterLength = 4*melody_durations[i]))\n",
    "\n",
    "melody.show()"
   ]
  },
  {
   "cell_type": "markdown",
   "id": "successful-trial",
   "metadata": {},
   "source": [
    "Note that we are representing the rhythm with no information about the meter. Nevertheless, you can probably perceive the metrical grid when listening to the rhythm alone. \n",
    "\n",
    "We can make the metrical grid explicit by having an isochronous beat played alongside the melody:"
   ]
  },
  {
   "cell_type": "code",
   "execution_count": 785,
   "id": "sorted-factor",
   "metadata": {},
   "outputs": [],
   "source": [
    "s = stream.Score()\n",
    "s.append(stream.Part())\n",
    "s.append(stream.Part())\n",
    "\n",
    "s[0].append(melody)\n",
    "\n",
    "metrical_grid = ['1/4'] + [2/4]*8\n",
    "s[1].append(rhythm_from_sequence(metrical_grid))\n",
    "\n",
    "play(s)"
   ]
  },
  {
   "cell_type": "code",
   "execution_count": 783,
   "id": "right-messenger",
   "metadata": {},
   "outputs": [
    {
     "data": {
      "image/png": "[encoded data removed]",
      "text/plain": [
       "<Figure size 720x432 with 1 Axes>"
      ]
     },
     "metadata": {
      "image/png": {
       "height": 382,
       "width": 584
      }
     },
     "output_type": "display_data"
    }
   ],
   "source": [
    "s.plot()"
   ]
  },
  {
   "cell_type": "markdown",
   "id": "supreme-start",
   "metadata": {},
   "source": [
    "# 5. Nancarrow: Canonic techniques"
   ]
  },
  {
   "cell_type": "markdown",
   "id": "earlier-signature",
   "metadata": {},
   "source": [
    "Thomas, M. E. (2000). Nancarrow’s Canons: Projections of Temporal and Formal Structures. Perspectives of New Music, 38(2), 106–133. https://doi.org/10.2307/833661\n"
   ]
  },
  {
   "cell_type": "markdown",
   "id": "prerequisite-extension",
   "metadata": {},
   "source": [
    "Canons are based on imitations between two (or mroe) voices: one that proposes a subject to imitate (*dux*), and one that follows with an imitation (*comes*). The imitation may be varied in various ways. \n",
    "\n",
    "One canonic technique for rhythm is to have the imitation speeding up (or slowing down). This will result in the *dux* and the *comes* to be out of phase, axcept at one point. The point of synchrony can be set at the beginning (so that the two voices seem to *diverge*), at the end (so that the two voices seem to *converge*), or in the middle (so that the two voices seem to converge and then diverge). Here is an example with an isochronous rhythm."
   ]
  },
  {
   "cell_type": "code",
   "execution_count": 817,
   "id": "assured-nomination",
   "metadata": {},
   "outputs": [],
   "source": [
    "####\n",
    "#TEMPO CHANGE\n",
    "####\n",
    "\n",
    "#Set-up stream with two parts\n",
    "canon = stream.Measure()\n",
    "canon.insert(0, stream.Part())\n",
    "canon.insert(0, stream.Part())\n",
    "\n",
    "#number of rhythmic events\n",
    "length = 12\n",
    "\n",
    "#each note in the 'comes' lasts perc less than the preceding\n",
    "perc = .02\n",
    "\n",
    "#where in sync?\n",
    "synchrony = 7 #synchrony = 1: divergent; synchrony = length: convergent; 1<synchrony<length: convergent-divergent\n",
    "\n",
    "#set start of the 'comes' in order to have synchrony at the desired place\n",
    "displace = sum([(1-perc)**k for k in range(synchrony-1)])-(synchrony-1)\n",
    "\n",
    "for i in range(length):\n",
    "    canon[0].insert(i, note.Note(64, quarterLength=1)) #dux\n",
    "    canon[1].insert(-displace+sum([(1-perc)**k for k in range(i)]), note.Note(65, quarterLength=(1-perc)**i)) #comes (accelerating)\n",
    "    \n",
    "play(canon)"
   ]
  },
  {
   "cell_type": "code",
   "execution_count": 818,
   "id": "imposed-nursery",
   "metadata": {},
   "outputs": [
    {
     "data": {
      "image/png": "[encoded data removed]",
      "text/plain": [
       "<Figure size 720x432 with 1 Axes>"
      ]
     },
     "metadata": {
      "image/png": {
       "height": 382,
       "width": 584
      }
     },
     "output_type": "display_data"
    }
   ],
   "source": [
    "canon.plot()"
   ]
  },
  {
   "cell_type": "markdown",
   "id": "conceptual-database",
   "metadata": {},
   "source": [
    "Another technique is to have the *dux* and the *comes* playing at different tempos, in a constant ratio.  "
   ]
  },
  {
   "cell_type": "code",
   "execution_count": 819,
   "id": "assured-double",
   "metadata": {},
   "outputs": [],
   "source": [
    "####\n",
    "#Constant ratio\n",
    "####\n",
    "\n",
    "#Setup stream with two parts\n",
    "canon = stream.Measure()\n",
    "canon.insert(0, stream.Part())\n",
    "canon.insert(0, stream.Part())\n",
    "\n",
    "#number of rhythmic events\n",
    "length = 12\n",
    "\n",
    "#tempo ratio\n",
    "ratio = 4/5\n",
    "\n",
    "#where in sync?\n",
    "synchrony = length #synchrony = 1: divergent; synchrony = length: convergent; 1<synchrony<length: convergent-divergent\n",
    "\n",
    "#set start of the 'comes' in order to have synchrony at the desired place\n",
    "displace = ratio*(synchrony -1) - (synchrony-1)\n",
    "\n",
    "for i in range(length):\n",
    "    canon[0].insert(i, note.Note(64, quarterLength=1)) #dux\n",
    "    canon[1].insert(-displace+ratio*i, note.Note(65, quarterLength=ratio)) #comes\n",
    "\n",
    "play(canon)"
   ]
  },
  {
   "cell_type": "code",
   "execution_count": 795,
   "id": "animated-socket",
   "metadata": {},
   "outputs": [
    {
     "data": {
      "image/png": "[encoded data removed]",
      "text/plain": [
       "<Figure size 720x432 with 1 Axes>"
      ]
     },
     "metadata": {
      "image/png": {
       "height": 367,
       "width": 584
      }
     },
     "output_type": "display_data"
    }
   ],
   "source": [
    "canon.plot(title = '')"
   ]
  },
  {
   "cell_type": "markdown",
   "id": "electoral-christmas",
   "metadata": {},
   "source": [
    "## Study 14"
   ]
  },
  {
   "cell_type": "markdown",
   "id": "alpine-norfolk",
   "metadata": {},
   "source": [
    "We replicate here one of Nancarrow's canonic studies for player piano. Specifically, we reconstruct the rhythmic template of Study 14. We do not attempt to replicate the pitches of the notes comprising the piece, because those are not part of the algorithmic conception of the piece: they are chosen \"by hand\" by the composer. \n",
    "\n",
    "Study 14 is a canon with two voices, a \"slow\" voice (the dux) and a \"fast\" voice (the comes), with a tempo ratio of 4/5. The two voices play the same rhythm (at different tempos). The rhythm in each voice is obtained by the superposition of 4 rhythmic streams. Each rhythmic stram is based on a different base duration n (with n = 3, 4, 5, or 6 eigth-notes), and cycles through the duration values n, n+1, n+2, n+1 etc.\n",
    "\n",
    "The arrangement of the two voices is a converging-diverging canon, with a point of convergence at the middle of the piece. "
   ]
  },
  {
   "cell_type": "code",
   "execution_count": 888,
   "id": "unavailable-senegal",
   "metadata": {},
   "outputs": [],
   "source": [
    "base_durations = [3,4,5,6]\n",
    "unit = 0.5 #duration unit in quarter lengths\n",
    "ratio = 4/5 #an eigth note of the faster voice lasts 4/5 of an eigth note of the slower voice\n",
    "\n",
    "length = 336 #overall length in eigth-notes\n",
    "displacement = (1-ratio)*(length/2) # displacement of the 'comes' to get simultaneity at midpoint\n",
    "\n",
    "def rhythmic_series(n):\n",
    "    #Series of IOIs for each base duration n\n",
    "    return [n, n+1, n+2, n+1]\n",
    "\n",
    "#set-up stream with two parts\n",
    "study14 = stream.Measure()\n",
    "study14.insert(0, stream.Part())\n",
    "study14.insert(0, stream.Part())\n",
    "\n",
    "for rhythmic_stream in base_durations:\n",
    "    cumulative = []\n",
    "    series = rhythmic_series(rhythmic_stream)\n",
    "    while sum(cumulative)<=length:\n",
    "        IOI = series[len(cumulative)%4]\n",
    "        study14[0].insert(sum(cumulative)*unit, note.Note(60+rhythmic_stream, quarterLength=unit))\n",
    "        study14[1].insert((displacement+sum(cumulative)*ratio)*unit, note.Note(60+12+7+rhythmic_stream, quarterLength=unit*ratio))\n",
    "        cumulative += [IOI]"
   ]
  },
  {
   "cell_type": "code",
   "execution_count": 882,
   "id": "representative-korea",
   "metadata": {},
   "outputs": [
    {
     "data": {
      "image/png": "[encoded data removed]",
      "text/plain": [
       "<Figure size 720x432 with 1 Axes>"
      ]
     },
     "metadata": {
      "image/png": {
       "height": 382,
       "width": 584
      }
     },
     "output_type": "display_data"
    }
   ],
   "source": [
    "study14.plot(title = 'C. Nancarrow: Study 14 - rhythmic components')"
   ]
  },
  {
   "cell_type": "code",
   "execution_count": 874,
   "id": "wicked-isaac",
   "metadata": {},
   "outputs": [
    {
     "data": {
      "text/html": [
       "\n",
       "                <div id='midiPlayerDiv154015'></div>\n",
       "                <link rel=\"stylesheet\" href=\"//cuthbertLab.github.io/music21j/css/m21.css\"\n",
       "                    type=\"text/css\" />\n",
       "                <script>\n",
       "                require.config({\n",
       "                    paths: {'music21': '//cuthbertLab.github.io/music21j/src/music21'}\n",
       "                });\n",
       "                require(['music21'], function() {\n",
       "                               mp = new music21.miditools.MidiPlayer();\n",
       "                               mp.addPlayer('#midiPlayerDiv154015');\n",
       "                               mp.base64Load('data:audio/midi;base64,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');\n",
       "                        });\n",
       "                </script>"
      ],
      "text/plain": [
       "<IPython.core.display.HTML object>"
      ]
     },
     "metadata": {},
     "output_type": "display_data"
    }
   ],
   "source": [
    "study14.show('midi')"
   ]
  },
  {
   "cell_type": "code",
   "execution_count": null,
   "id": "related-employment",
   "metadata": {},
   "outputs": [],
   "source": []
  }
 ],
 "metadata": {
  "kernelspec": {
   "display_name": "Python [conda env:algo] *",
   "language": "python",
   "name": "conda-env-algo-py"
  },
  "language_info": {
   "codemirror_mode": {
    "name": "ipython",
    "version": 3
   },
   "file_extension": ".py",
   "mimetype": "text/x-python",
   "name": "python",
   "nbconvert_exporter": "python",
   "pygments_lexer": "ipython3",
   "version": "3.8.5"
  }
 },
 "nbformat": 4,
 "nbformat_minor": 5
}
