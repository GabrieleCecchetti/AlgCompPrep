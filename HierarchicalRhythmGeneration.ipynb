{
 "cells": [
  {
   "cell_type": "code",
   "execution_count": 1,
   "metadata": {},
   "outputs": [],
   "source": [
    "#Rohrmeier, M. (2020). Towards a formalization of musical rhythm. International Society for Music Information Retrieval.\n",
    "\n",
    "import numpy as np\n",
    "import pandas as pd\n",
    "%matplotlib inline\n",
    "import matplotlib.pyplot as plt\n",
    "import IPython.display as ipd\n",
    "from IPython.display import Audio\n",
    "import librosa\n",
    "from librosa import display\n",
    "import librosa.display\n",
    "from iteration_utilities import deepflatten #flatten nested lists\n",
    "from fractions import Fraction\n",
    "\n",
    "import pretty_midi\n",
    "\n",
    "import fluidsynth\n",
    "import soundfile as sf\n",
    "import music21\n",
    "from music21 import *\n",
    "import itertools\n",
    "import random\n",
    "import mchmm #for Markov models\n",
    "\n",
    "import nltk #for NLP"
   ]
  },
  {
   "cell_type": "markdown",
   "metadata": {},
   "source": [
    "# Global Constants"
   ]
  },
  {
   "cell_type": "code",
   "execution_count": 245,
   "metadata": {},
   "outputs": [],
   "source": [
    "UNIT = 1 #We express duration as fractions of a whole note. Use UNIT = 1/4 to express durations as fractions of quarter-notes"
   ]
  },
  {
   "cell_type": "markdown",
   "metadata": {},
   "source": [
    "# Notation and playback"
   ]
  },
  {
   "cell_type": "code",
   "execution_count": 246,
   "metadata": {},
   "outputs": [],
   "source": [
    "def play(score):\n",
    "    #Shortcut to play a music21 stream\n",
    "    midi.realtime.StreamPlayer(score).play()\n",
    "    \n",
    "def percussion_hit(duration, pitch = \"C4\"):\n",
    "    #Create Note object for percussion hits\n",
    "    return note.Note(pitch, quarterLength = duration*(4*UNIT))\n",
    "\n",
    "def create_percussion(time_sig = None):\n",
    "    #Initialize a percussion stream with Woodblock timbre\n",
    "    #If time signature is None, no measure splits\n",
    "    if time_sig == None:\n",
    "        drumPart = stream.Measure()\n",
    "    else:\n",
    "        drumPart = stream.Stream()\n",
    "        drumPart.timeSignature = meter.TimeSignature(time_sig)\n",
    "    \n",
    "    drumPart.insert(0, instrument.Woodblock())\n",
    "    return drumPart\n",
    "\n",
    "def append_event(duration, original_stream):\n",
    "    #Append a rhythmical event of given duration to the given stream\n",
    "    new_stream = original_stream\n",
    "    new_stream.append(percussion_hit(duration))\n",
    "    return new_stream\n",
    "\n",
    "def append_rest(duration, original_stream):\n",
    "    #Append a rhythmical event of given duration to the given stream\n",
    "    new_stream = original_stream\n",
    "    new_stream.append(note.Rest(quarterLength = duration*(4*UNIT)))\n",
    "    return new_stream\n",
    "\n",
    "def rhythm_from_sequence(durations, time_sig = None):\n",
    "    #Generate rhythmic stream from a list of durations\n",
    "    rhythm = create_percussion(time_sig = time_sig)\n",
    "    for dur in durations:\n",
    "        if type(dur) == str:\n",
    "            rhythm = append_rest(float(Fraction(dur)), rhythm)\n",
    "        else:\n",
    "            rhythm = append_event(dur, rhythm) \n",
    "    return rhythm\n",
    "\n"
   ]
  },
  {
   "cell_type": "markdown",
   "metadata": {},
   "source": [
    "# Rhythmic category class"
   ]
  },
  {
   "cell_type": "code",
   "execution_count": 247,
   "metadata": {},
   "outputs": [],
   "source": [
    "class rhythmic_category:\n",
    "    def __init__(self, upbeat, body, tail):\n",
    "        \n",
    "        #Parameters\n",
    "        self.upbeat = upbeat\n",
    "        self.body = body\n",
    "        self.tail = tail\n",
    "        self.parameters = [upbeat, body, tail]\n",
    "        \n",
    "    #Rule applications\n",
    "    def split(self, ratio = 1/2, right_child_upbeat = 0):\n",
    "        #SPLIT operation on parent metrical category, based on ratio = left_child_body/parent.body. \n",
    "        left_child_body = self.body*ratio\n",
    "        right_child_body = self.body-left_child_body\n",
    "    \n",
    "        left_child_cat = rhythmic_category(self.upbeat, left_child_body, - right_child_upbeat)\n",
    "        right_child_cat = rhythmic_category(right_child_upbeat, right_child_body, self.tail)\n",
    "    \n",
    "        return list(deepflatten([left_child_cat.timesteal(), right_child_cat.timesteal()]))\n",
    "    \n",
    "    def prepare(self):\n",
    "        #UPBEAT rule (simplified, no upbeat_of_upbeat)\n",
    "        if self.upbeat > 0:\n",
    "            left_child_cat = rhythmic_category(0, self.upbeat, 0)\n",
    "            right_child_cat = rhythmic_category(0, self.body, self.tail)\n",
    "    \n",
    "            return list(deepflatten([left_child_cat.timesteal(),  right_child_cat.timesteal()]))\n",
    "        else:\n",
    "            return [self]\n",
    "        \n",
    "    def e_shift(self):\n",
    "        #ANTICIPATE rule\n",
    "        return [rhythmic_category(0, self.body, self.upbeat+self.tail)]\n",
    "    \n",
    "    def l_shift(self):\n",
    "        #DELAY rule\n",
    "        return [rhythmic_category(self.upbeat + self.tail, self.body, 0)]\n",
    "    \n",
    "    def timesteal(self):\n",
    "        #TIMESTEALING. We apply it automatically to reduce timestolen rhythmic values as soon as they are generated\n",
    "        new_upbeat = self.upbeat\n",
    "        new_tail = self.tail\n",
    "        timestolen_body = self.body\n",
    "        if self.upbeat < 0:\n",
    "            new_upbeat = 0\n",
    "            timestolen_body += self.upbeat\n",
    "        if self.tail < 0:\n",
    "            new_tail = 0\n",
    "            timestolen_body += self.tail\n",
    "        return [rhythmic_category(new_upbeat, timestolen_body, new_tail)]\n",
    "    \n",
    "    def attach_tail(self):\n",
    "        #Attach tail to body\n",
    "        #To be used if tail >0\n",
    "        return [rhythmic_category(self.upbeat, self.body+self.tail, 0)]\n",
    "\n",
    "    \n",
    "    def get_terminals(self):\n",
    "    #Recursively get terminal durations from metrical categories. Can accept \n",
    "    #If there is negative head or tail, interpret as timestealing. If there is positive head, interpret as preparation. If there is positive tail, interpret as a time-thief.\n",
    "    \n",
    "        if (self.upbeat == 0) and (self.tail == 0):\n",
    "            return [self.body]\n",
    "        elif (self.upbeat < 0) | (self.tail < 0):\n",
    "            return  list(deepflatten([x.get_terminals() for x in self.timesteal()]))\n",
    "        elif self.tail > 0:\n",
    "            return  list(deepflatten([x.get_terminals() for x in self.attach_tail()]))\n",
    "        elif self.upbeat > 0:\n",
    "            return list(deepflatten([x.get_terminals() for x in self.prepare()]))\n",
    "    \n",
    "        \n",
    "        "
   ]
  },
  {
   "cell_type": "markdown",
   "metadata": {},
   "source": [
    "# Generation"
   ]
  },
  {
   "cell_type": "code",
   "execution_count": 256,
   "metadata": {},
   "outputs": [],
   "source": [
    "def rule(rule_type, p1 = None, p2 = None):\n",
    "    #Returns dictionary specifying a rule with its parameters\n",
    "    \n",
    "    rule_def = {'type': rule_type}\n",
    "    \n",
    "    if p1 != None:\n",
    "        rule_def['p1'] = p1\n",
    "    if p2 != None:\n",
    "        rule_def['p2'] = p2\n",
    "    \n",
    "    return rule_def\n",
    "    \n",
    "\n",
    "def generate_hierarchical_rhythm(tree, starting_symbol, preterminal_string = []):\n",
    "    #Recursively generate rhythm from a hierarchy of rule applications\n",
    "    \n",
    "    if len(tree) == 0:\n",
    "        return preterminal_string + [starting_symbol]\n",
    "    else:\n",
    "        rule = tree[0]\n",
    "        if rule['type'] == 'split':\n",
    "            children = starting_symbol.split(ratio = rule['p1'], right_child_upbeat = rule['p2'])\n",
    "        elif rule['type'] == 'prepare':\n",
    "            children = starting_symbol.prepare()\n",
    "        elif rule['type'] == 'anticipate':\n",
    "            children = starting_symbol.e_shift()\n",
    "        elif rule['type'] == 'delay':\n",
    "            children = starting_symbol.l_shift()\n",
    "            \n",
    "               \n",
    "        for child_n in range(len(children)):\n",
    "            preterminal_string = generate_hierarchical_rhythm(tree[child_n+1], children[child_n], preterminal_string = preterminal_string)\n",
    "                \n",
    "    \n",
    "        return preterminal_string\n",
    "    \n",
    "\n",
    "def get_terminal_durations(rhythmic_categories):\n",
    "    #Turns list of pre-terminal categories in list of terminal durations\n",
    "    return list(deepflatten([x.get_terminals() for x in rhythmic_categories]))\n",
    "    "
   ]
  },
  {
   "cell_type": "code",
   "execution_count": 258,
   "metadata": {},
   "outputs": [],
   "source": [
    "#Define start symbol\n",
    "S = rhythmic_category(0, 2, 0)\n",
    "\n",
    "#Define derivation: each node is in the form [rule('ruletype', parameter1, parameter2), [child_node1], [child_node2]]\n",
    "k = [rule('split', 1/2, 0), [rule('split', 1/2, 0), [rule('split', 1/2, 1/16), [], []], []], [rule('split', 1/2, 1/8), [], [rule('anticipate'), []]]]\n",
    "\n",
    "generated_rhythm = rhythm_from_sequence(get_terminal_durations(generate_hierarchical_rhythm(k, S, preterminal_string = [])), time_sig = '4/4')"
   ]
  },
  {
   "cell_type": "code",
   "execution_count": 259,
   "metadata": {},
   "outputs": [
    {
     "data": {
      "image/png": "[encoded data removed]",
      "text/plain": [
       "<IPython.core.display.Image object>"
      ]
     },
     "metadata": {
      "image/png": {
       "height": 58,
       "width": 426
      }
     },
     "output_type": "display_data"
    }
   ],
   "source": [
    "generated_rhythm.show()"
   ]
  },
  {
   "cell_type": "code",
   "execution_count": 254,
   "metadata": {},
   "outputs": [],
   "source": [
    "play(generated_rhythm)"
   ]
  }
 ],
 "metadata": {
  "kernelspec": {
   "display_name": "Python 3",
   "language": "python",
   "name": "python3"
  },
  "language_info": {
   "codemirror_mode": {
    "name": "ipython",
    "version": 3
   },
   "file_extension": ".py",
   "mimetype": "text/x-python",
   "name": "python",
   "nbconvert_exporter": "python",
   "pygments_lexer": "ipython3",
   "version": "3.7.4"
  }
 },
 "nbformat": 4,
 "nbformat_minor": 2
}
